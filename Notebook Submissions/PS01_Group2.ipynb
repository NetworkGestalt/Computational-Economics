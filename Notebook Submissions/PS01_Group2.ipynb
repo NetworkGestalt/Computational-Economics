{
 "cells": [
  {
   "cell_type": "markdown",
   "id": "6238a83f",
   "metadata": {},
   "source": [
    "# Programming for Economics"
   ]
  },
  {
   "cell_type": "markdown",
   "id": "4693ecd7",
   "metadata": {},
   "source": [
    "## Problem Set 01 - Week 2  - Group 02"
   ]
  },
  {
   "cell_type": "markdown",
   "id": "cd7e4a12",
   "metadata": {},
   "source": [
    "*24/01/2023*"
   ]
  },
  {
   "cell_type": "markdown",
   "id": "7975adb8",
   "metadata": {},
   "source": [
    "Importing Libraries"
   ]
  },
  {
   "cell_type": "code",
   "execution_count": 79,
   "id": "94eef4b9",
   "metadata": {},
   "outputs": [],
   "source": [
    "import numpy as np\n",
    "import matplotlib.pyplot as plt"
   ]
  },
  {
   "cell_type": "markdown",
   "id": "dfc55687",
   "metadata": {},
   "source": [
    "### Exercise 1 - Lists and indexing"
   ]
  },
  {
   "cell_type": "code",
   "execution_count": 80,
   "id": "6a372a1c",
   "metadata": {},
   "outputs": [],
   "source": [
    "l1 = [2, 5, 6, 4, 5 ,9, 3, 2, 2]"
   ]
  },
  {
   "cell_type": "markdown",
   "id": "05a01baa",
   "metadata": {},
   "source": [
    "a. Extract and print the first 3 elements of the list ([2,5,6])"
   ]
  },
  {
   "cell_type": "code",
   "execution_count": 81,
   "id": "6e4a7b39",
   "metadata": {},
   "outputs": [
    {
     "name": "stdout",
     "output_type": "stream",
     "text": [
      "[2, 5, 6]\n"
     ]
    }
   ],
   "source": [
    "a = l1[0:3]\n",
    "print(a)"
   ]
  },
  {
   "cell_type": "markdown",
   "id": "46dc5e29",
   "metadata": {},
   "source": [
    "Extract and print the last 2 elements."
   ]
  },
  {
   "cell_type": "code",
   "execution_count": 82,
   "id": "45a02e59",
   "metadata": {},
   "outputs": [
    {
     "name": "stdout",
     "output_type": "stream",
     "text": [
      "[2, 2]\n"
     ]
    }
   ],
   "source": [
    "b = l1[-2:]\n",
    "print(b)"
   ]
  },
  {
   "cell_type": "markdown",
   "id": "53951002",
   "metadata": {},
   "source": [
    "b. Replace the 3rd element in the list for number 4. Replace the 7th element in the list for\n",
    "number 7. Print the new list."
   ]
  },
  {
   "cell_type": "code",
   "execution_count": 83,
   "id": "e00fa64d",
   "metadata": {},
   "outputs": [
    {
     "name": "stdout",
     "output_type": "stream",
     "text": [
      "[2, 5, 4, 4, 5, 9, 7, 2, 2]\n"
     ]
    }
   ],
   "source": [
    "l1[2] = 4\n",
    "l1[6] = 7\n",
    "print(l1)"
   ]
  },
  {
   "cell_type": "markdown",
   "id": "cfdf3925",
   "metadata": {},
   "source": [
    "c. Replace the number 9 for 8 using list.index()."
   ]
  },
  {
   "cell_type": "code",
   "execution_count": 84,
   "id": "0f73822e",
   "metadata": {},
   "outputs": [
    {
     "name": "stdout",
     "output_type": "stream",
     "text": [
      "[2, 5, 4, 4, 5, 8, 7, 2, 2]\n"
     ]
    }
   ],
   "source": [
    "#Replace number 9 for 8 in the new list from b) using index method\n",
    "new_list = l1\n",
    "\n",
    "a = new_list.index(9)\n",
    "new_list[a] = 8\n",
    "print(new_list)"
   ]
  },
  {
   "cell_type": "markdown",
   "id": "410cc873",
   "metadata": {},
   "source": [
    "d. Replace number 9 for number 8 using NumPy argmax."
   ]
  },
  {
   "cell_type": "code",
   "execution_count": 85,
   "id": "1e28f8f0",
   "metadata": {},
   "outputs": [
    {
     "name": "stdout",
     "output_type": "stream",
     "text": [
      "[2, 5, 4, 4, 5, 8, 7, 2, 2]\n"
     ]
    }
   ],
   "source": [
    "#Replace number 9 for 8 in the new list from b) using argmax method\n",
    "new_list = l1\n",
    "\n",
    "b = np.argmax(new_list)\n",
    "new_list[b] = 8\n",
    "print(new_list)"
   ]
  },
  {
   "cell_type": "markdown",
   "id": "79cf8bad",
   "metadata": {},
   "source": [
    "### Exercise 2 - Arrays and matrix operations"
   ]
  },
  {
   "cell_type": "code",
   "execution_count": 86,
   "id": "fcd9df0b",
   "metadata": {},
   "outputs": [],
   "source": [
    "l1 = [2, 5, 6, 4, 5 ,9, 3, 2, 2]\n",
    "a1 = np.array(l1)"
   ]
  },
  {
   "cell_type": "markdown",
   "id": "84576b9c",
   "metadata": {},
   "source": [
    "a. Convert the list into a 3 × 3 matrix (2-d array)."
   ]
  },
  {
   "cell_type": "code",
   "execution_count": 87,
   "id": "b766c29e",
   "metadata": {},
   "outputs": [
    {
     "name": "stdout",
     "output_type": "stream",
     "text": [
      "[[2 5 6]\n",
      " [4 5 9]\n",
      " [3 2 2]]\n"
     ]
    }
   ],
   "source": [
    "A = a1.reshape((3,3))\n",
    "print(A)"
   ]
  },
  {
   "cell_type": "markdown",
   "id": "4aa1bba5",
   "metadata": {},
   "source": [
    "b. Find the maximum of the matrix A. Find the index of the maximum.\n"
   ]
  },
  {
   "cell_type": "code",
   "execution_count": 88,
   "id": "5cf22bff",
   "metadata": {},
   "outputs": [
    {
     "name": "stdout",
     "output_type": "stream",
     "text": [
      "9\n",
      "5\n"
     ]
    }
   ],
   "source": [
    "##Method 1: Maximum of Matrix A with ARRAY index\n",
    "print(A.max())          #Maximum Element\n",
    "print(A.argmax())       #Array Index"
   ]
  },
  {
   "cell_type": "code",
   "execution_count": 89,
   "id": "0c6f96f1",
   "metadata": {},
   "outputs": [
    {
     "name": "stdout",
     "output_type": "stream",
     "text": [
      "Maximum Element: 9\n",
      "Element Position: (1, 2)\n"
     ]
    }
   ],
   "source": [
    "##Method 2: Maximum of Matrix A with MATRIX index\n",
    "argm_id = A.argmax()      #Array index\n",
    "i_row, i_column = np.unravel_index(argm_id, (A.shape))\n",
    "print(f\"Maximum Element: {A[i_row,i_column]}\")\n",
    "print(f\"Element Position: {(i_row,i_column)}\")"
   ]
  },
  {
   "cell_type": "markdown",
   "id": "caac71c6",
   "metadata": {},
   "source": [
    "c. Transpose the matrixA."
   ]
  },
  {
   "cell_type": "code",
   "execution_count": 90,
   "id": "c8109c38",
   "metadata": {},
   "outputs": [
    {
     "name": "stdout",
     "output_type": "stream",
     "text": [
      "[[2 4 3]\n",
      " [5 5 2]\n",
      " [6 9 2]]\n"
     ]
    }
   ],
   "source": [
    "A_transposed = A.T\n",
    "print(A_transposed)"
   ]
  },
  {
   "cell_type": "markdown",
   "id": "eeedb4d3",
   "metadata": {},
   "source": [
    "d. Squared the matrix (i.e. AA′\n",
    ")."
   ]
  },
  {
   "cell_type": "code",
   "execution_count": 91,
   "id": "7b7e0ca5",
   "metadata": {},
   "outputs": [
    {
     "name": "stdout",
     "output_type": "stream",
     "text": [
      "[[ 65  87  28]\n",
      " [ 87 122  40]\n",
      " [ 28  40  17]]\n",
      "[[ 65  87  28]\n",
      " [ 87 122  40]\n",
      " [ 28  40  17]]\n"
     ]
    }
   ],
   "source": [
    "##Method 1: Linear Algebra interpretation of \"squaring the matrix\" (AA') --> always yields a square, positive semidefinite matrix.\n",
    "\n",
    "AA_T = np.matmul(A, A_transposed)\n",
    "print(AA_T)\n",
    "\n",
    "#Alternatively, use @ operator.\n",
    "\n",
    "AA_T = A @ A_transposed\n",
    "print(AA_T)\n",
    "\n",
    "#Note: np.dot() and np.matmul() yield the same answer only for N-dimensional matrices: where N<=2. For higher dimension\n",
    "# matrices (3,4,5,..) the answers diverge. Thus, np.matmul() is more robust for calculating the cross product. "
   ]
  },
  {
   "cell_type": "markdown",
   "id": "6396d3d5",
   "metadata": {},
   "source": [
    "For completeness, we show 2 more methods depending on the interpretation of \"squaring the matrix\""
   ]
  },
  {
   "cell_type": "code",
   "execution_count": 92,
   "id": "ff7d947e",
   "metadata": {},
   "outputs": [
    {
     "name": "stdout",
     "output_type": "stream",
     "text": [
      "[[42 47 69]\n",
      " [55 63 87]\n",
      " [20 29 40]]\n"
     ]
    }
   ],
   "source": [
    "##Method 2: A more colloquial interpretation of \"squaring the matrix\" (A^2) --> matrix times itself\n",
    "AA = np.matmul(A,A)\n",
    "print(AA)"
   ]
  },
  {
   "cell_type": "code",
   "execution_count": 93,
   "id": "8d4c1b2a",
   "metadata": {},
   "outputs": [
    {
     "name": "stdout",
     "output_type": "stream",
     "text": [
      "[[ 4 25 36]\n",
      " [16 25 81]\n",
      " [ 9  4  4]]\n"
     ]
    }
   ],
   "source": [
    "##Method 3: Element-wise interpretation of \"squaring the matrix\" (element_ij^2) --> every element times itself\n",
    "A_sq = np.square(A)\n",
    "print(A_sq)"
   ]
  },
  {
   "cell_type": "code",
   "execution_count": 94,
   "id": "58d1485e",
   "metadata": {},
   "outputs": [
    {
     "name": "stdout",
     "output_type": "stream",
     "text": [
      "2\n",
      "[[42 47 69]\n",
      " [55 63 87]\n",
      " [20 29 40]]\n",
      "5\n",
      "[[ 68443  82819 116292]\n",
      " [ 89606 108472 152295]\n",
      " [ 38687  46816  65759]]\n",
      "6\n",
      "[[ 817038  988894 1388613]\n",
      " [1069985 1294980 1818474]\n",
      " [ 461915  559033  784984]]\n",
      "4\n",
      "[[ 5729  6936  9747]\n",
      " [ 7515  9077 12756]\n",
      " [ 3235  3927  5503]]\n",
      "5\n",
      "[[ 68443  82819 116292]\n",
      " [ 89606 108472 152295]\n",
      " [ 38687  46816  65759]]\n",
      "9\n",
      "[[ 1390699352  1683147395 -1931459335]\n",
      " [ 1821194179 -2090797271 -1199829397]\n",
      " [  786190428   951517457  1336138862]]\n",
      "3\n",
      "[[ 479  583  813]\n",
      " [ 623  764 1071]\n",
      " [ 276  325  461]]\n",
      "2\n",
      "[[42 47 69]\n",
      " [55 63 87]\n",
      " [20 29 40]]\n",
      "2\n",
      "[[42 47 69]\n",
      " [55 63 87]\n",
      " [20 29 40]]\n"
     ]
    }
   ],
   "source": [
    "## Raising A to the power of every element in the matrix.\n",
    "\n",
    "(m,n) = A.shape  #show the dimension of matrix A: 3 * 3\n",
    "\n",
    "for i in range(0,m):\n",
    "    for j in range(0,n):\n",
    "        A_elements = A[0+i,0+j] \n",
    "        A_raise_power = np.linalg.matrix_power(A, A_elements)  #Raises square matrix A to the power of n=A_elements\n",
    "        print(A_elements)\n",
    "        print(A_raise_power )\n",
    "        \n",
    "#For instance, if element=5, then A_raise_power=A^5 (i.e., A @ A @ A @ A @ A)"
   ]
  },
  {
   "cell_type": "markdown",
   "id": "6287b25e",
   "metadata": {},
   "source": [
    "e. Compute the eigenvalues of matrix A.\n"
   ]
  },
  {
   "cell_type": "code",
   "execution_count": 95,
   "id": "70eb2ec7",
   "metadata": {},
   "outputs": [
    {
     "name": "stdout",
     "output_type": "stream",
     "text": [
      "[11.93968476+0.j         -1.46984238+0.96874799j -1.46984238-0.96874799j]\n"
     ]
    }
   ],
   "source": [
    "from numpy.linalg import eig\n",
    "eigenvalue, vectors = eig(A)\n",
    "print(eigenvalue)"
   ]
  },
  {
   "cell_type": "markdown",
   "id": "882eda38",
   "metadata": {},
   "source": [
    "f. Multiply matrix A by a matrix of zeros (f1), by the identity matrix (f2),and by a matrix of\n",
    "ones (f3).\n"
   ]
  },
  {
   "cell_type": "code",
   "execution_count": 96,
   "id": "714a57c0",
   "metadata": {},
   "outputs": [],
   "source": [
    "#Generating required matricies\n",
    "f1 = np.zeros((3,3))\n",
    "f2 = np.eye(3)\n",
    "f3 = np.ones((3,3))"
   ]
  },
  {
   "cell_type": "code",
   "execution_count": 97,
   "id": "37ebde2d",
   "metadata": {},
   "outputs": [
    {
     "name": "stdout",
     "output_type": "stream",
     "text": [
      "[[0. 0. 0.]\n",
      " [0. 0. 0.]\n",
      " [0. 0. 0.]]\n",
      "[[2. 5. 6.]\n",
      " [4. 5. 9.]\n",
      " [3. 2. 2.]]\n",
      "[[13. 13. 13.]\n",
      " [18. 18. 18.]\n",
      " [ 7.  7.  7.]]\n"
     ]
    }
   ],
   "source": [
    "#Multiplying Matrcies\n",
    "A_f1 = np.matmul(A, f1)\n",
    "print(A_f1)\n",
    "A_f2 = np.matmul(A, f2)\n",
    "print(A_f2)\n",
    "A_f3 = np.matmul(A,f3)\n",
    "print(A_f3)"
   ]
  },
  {
   "cell_type": "markdown",
   "id": "5bf156d3",
   "metadata": {},
   "source": [
    "g. Create an even grid from 0 to 9 with 9 elements. Convert the grid into a 3x3 matrix called B.\n",
    "Multiply matrix A by matrix B."
   ]
  },
  {
   "cell_type": "code",
   "execution_count": 98,
   "id": "3fd7a3c6",
   "metadata": {},
   "outputs": [
    {
     "name": "stdout",
     "output_type": "stream",
     "text": [
      "[[0.    1.125 2.25 ]\n",
      " [3.375 4.5   5.625]\n",
      " [6.75  7.875 9.   ]]\n"
     ]
    }
   ],
   "source": [
    "#Generate Grid, converting to matrix \"B\"\n",
    "B = np.linspace(0, 9,9).reshape(3,3)\n",
    "print(B)"
   ]
  },
  {
   "cell_type": "code",
   "execution_count": 99,
   "id": "6ec2a77b",
   "metadata": {},
   "outputs": [
    {
     "name": "stdout",
     "output_type": "stream",
     "text": [
      "[[ 57.375  72.     86.625]\n",
      " [ 77.625  97.875 118.125]\n",
      " [ 20.25   28.125  36.   ]]\n"
     ]
    }
   ],
   "source": [
    "#Multiplying A by B\n",
    "AB = np.matmul(A,B)\n",
    "print(AB)"
   ]
  },
  {
   "cell_type": "markdown",
   "id": "df8f38ad",
   "metadata": {},
   "source": [
    "### Exercise 3 - for loop"
   ]
  },
  {
   "cell_type": "markdown",
   "id": "735651ea",
   "metadata": {},
   "source": [
    "Write a code to iterate the first 10 numbers and in each iteration,\n",
    "print the sum of the current and previous number."
   ]
  },
  {
   "cell_type": "code",
   "execution_count": 100,
   "id": "9af5d1e8",
   "metadata": {},
   "outputs": [
    {
     "name": "stdout",
     "output_type": "stream",
     "text": [
      "Current Number is 0; Previous Number is 0; Sum of current and previous num is 0\n",
      "Current Number is 1; Previous Number is 0; Sum of current and previous num is 1\n",
      "Current Number is 2; Previous Number is 1; Sum of current and previous num is 3\n",
      "Current Number is 3; Previous Number is 2; Sum of current and previous num is 5\n",
      "Current Number is 4; Previous Number is 3; Sum of current and previous num is 7\n",
      "Current Number is 5; Previous Number is 4; Sum of current and previous num is 9\n",
      "Current Number is 6; Previous Number is 5; Sum of current and previous num is 11\n",
      "Current Number is 7; Previous Number is 6; Sum of current and previous num is 13\n",
      "Current Number is 8; Previous Number is 7; Sum of current and previous num is 15\n",
      "Current Number is 9; Previous Number is 8; Sum of current and previous num is 17\n"
     ]
    }
   ],
   "source": [
    "pre_num = 0    #There's no previous number for the first element\n",
    "\n",
    "for i in range(0,10):  \n",
    "    print('Current Number is '+ str(i) + '; Previous Number is '+ str(pre_num) \n",
    "          + '; Sum of current and previous num is ' + str(i + pre_num))\n",
    "    pre_num = i"
   ]
  },
  {
   "cell_type": "code",
   "execution_count": 101,
   "id": "b3ce63a6",
   "metadata": {},
   "outputs": [
    {
     "name": "stdout",
     "output_type": "stream",
     "text": [
      "Current Number : 0; Sum of Previous and Current Number : 0\n",
      "Current Number : 2; Sum of Previous and Current Number : 2\n",
      "Current Number : 4; Sum of Previous and Current Number : 6\n",
      "Current Number : 6; Sum of Previous and Current Number : 10\n",
      "Current Number : 8; Sum of Previous and Current Number : 14\n",
      "Current Number : 10; Sum of Previous and Current Number : 18\n",
      "Current Number : 12; Sum of Previous and Current Number : 22\n",
      "Current Number : 14; Sum of Previous and Current Number : 26\n",
      "Current Number : 16; Sum of Previous and Current Number : 30\n",
      "Current Number : 18; Sum of Previous and Current Number : 34\n"
     ]
    }
   ],
   "source": [
    "'''Alternatively, you can also expand the previous\n",
    "loop to calculate and print the sum of the \n",
    "current and previous iterated number for the\n",
    "FIRST 10 elements of ANY arbitrary array of numbers,\n",
    "not only all of the elements in range(0,10) '''\n",
    "\n",
    "numbers = np.arange(0,50,2)  #Arbitrary array\n",
    "previous_number = 0          #There's no previous number for the first element\n",
    "count=0\n",
    "\n",
    "for i in numbers:\n",
    "    count+=1           \n",
    "    if count <= 10:          #the print output loop terminates after the 10th element\n",
    "        sum = previous_number + 1\n",
    "        print('Current Number : ' + str(i) + '; Sum of Previous and Current Number : '\\\n",
    "          + str(previous_number + i))\n",
    "        previous_number = i\n"
   ]
  },
  {
   "cell_type": "markdown",
   "id": "23cc68a4",
   "metadata": {},
   "source": [
    "### Exercise 4 - Conditional statements and operations"
   ]
  },
  {
   "cell_type": "code",
   "execution_count": 102,
   "id": "2662314b",
   "metadata": {},
   "outputs": [],
   "source": [
    "l1 = [2, 5, 6, 4, 5 ,9, 3, 2, 2]"
   ]
  },
  {
   "cell_type": "markdown",
   "id": "a221c451",
   "metadata": {},
   "source": [
    "a. Create a new list that contains only the elements in list l1 that are smaller than 5."
   ]
  },
  {
   "cell_type": "code",
   "execution_count": 103,
   "id": "b1745f98",
   "metadata": {},
   "outputs": [
    {
     "name": "stdout",
     "output_type": "stream",
     "text": [
      "[2, 4, 3, 2, 2]\n"
     ]
    }
   ],
   "source": [
    "#Method 1: list comprehension\n",
    "l2 = [i for i in l1 if i <5]\n",
    "print(l2)"
   ]
  },
  {
   "cell_type": "code",
   "execution_count": 104,
   "id": "b1a2b368",
   "metadata": {},
   "outputs": [
    {
     "name": "stdout",
     "output_type": "stream",
     "text": [
      "[2, 4, 3, 2, 2]\n"
     ]
    }
   ],
   "source": [
    "#Method 2: for loop\n",
    "l2=[]    \n",
    "for i in l1:\n",
    "    if i<5:\n",
    "        l2.append(i)\n",
    "print(l2)"
   ]
  },
  {
   "cell_type": "markdown",
   "id": "25a6cae4",
   "metadata": {},
   "source": [
    "b. Create a new list that contains only the elements in list l1 bigger or equal than 3 and smaller\n",
    "than 7."
   ]
  },
  {
   "cell_type": "code",
   "execution_count": 105,
   "id": "470a0322",
   "metadata": {},
   "outputs": [
    {
     "name": "stdout",
     "output_type": "stream",
     "text": [
      "[5, 6, 4, 5, 3]\n"
     ]
    }
   ],
   "source": [
    "#Method 1: list comprehension\n",
    "l3 = [i for i in l1 if i < 7 and i >= 3]\n",
    "print(l3)"
   ]
  },
  {
   "cell_type": "code",
   "execution_count": 106,
   "id": "ad52347a",
   "metadata": {},
   "outputs": [
    {
     "name": "stdout",
     "output_type": "stream",
     "text": [
      "[5, 6, 4, 5, 3]\n"
     ]
    }
   ],
   "source": [
    "#Method 2: for loop\n",
    "l3=[]\n",
    "for i in l1:\n",
    "    if (i>=3 and i<7):\n",
    "        l3.append(i)\n",
    "print(l3)"
   ]
  },
  {
   "cell_type": "markdown",
   "id": "a200d4a9",
   "metadata": {},
   "source": [
    "c. Given matrix A from exercise 2, write a code that checks whether 5 belongs to A."
   ]
  },
  {
   "cell_type": "code",
   "execution_count": 107,
   "id": "131b018e",
   "metadata": {},
   "outputs": [
    {
     "name": "stdout",
     "output_type": "stream",
     "text": [
      "True\n"
     ]
    }
   ],
   "source": [
    "#Method 1: Boolean check\n",
    "A = np.array(l1).reshape((3,3))\n",
    "B = 5 in A\n",
    "print(B)"
   ]
  },
  {
   "cell_type": "code",
   "execution_count": 108,
   "id": "741d5a43",
   "metadata": {},
   "outputs": [
    {
     "name": "stdout",
     "output_type": "stream",
     "text": [
      "\"5\" found 2 times\n",
      "\"20\" not found\n"
     ]
    }
   ],
   "source": [
    "#Method 2: function\n",
    "\n",
    "def matrix_check(matrix, element):\n",
    "    count=0\n",
    "    for i in matrix.flatten():\n",
    "        if i == element:\n",
    "            count += 1\n",
    "    if count == 0:\n",
    "        return print('\"'+str(element)+'\"',\"not found\")\n",
    "    else:\n",
    "        return print('\"'+str(element)+'\"', \"found\", count, \"times\")\n",
    "    \n",
    "#function test:\n",
    "matrix_check(A,5) \n",
    "matrix_check(A,20)"
   ]
  },
  {
   "cell_type": "markdown",
   "id": "2f741c16",
   "metadata": {},
   "source": [
    "d. Create a new matrix B that is equal to matrix A but where numbers below 4 are replaced by\n",
    "zeroz.\n"
   ]
  },
  {
   "cell_type": "code",
   "execution_count": 109,
   "id": "7aa7bc48",
   "metadata": {},
   "outputs": [
    {
     "name": "stdout",
     "output_type": "stream",
     "text": [
      "[[0 5 6]\n",
      " [4 5 9]\n",
      " [0 0 0]]\n"
     ]
    }
   ],
   "source": [
    "#Method 1: conditional indexing\n",
    "l1 = [2, 5, 6, 4, 5 ,9, 3, 2, 2]\n",
    "B = np.array(l1).reshape((3,3))\n",
    "B[B < 4] = 0\n",
    "print(B)"
   ]
  },
  {
   "cell_type": "markdown",
   "id": "cbfaff1b",
   "metadata": {},
   "source": [
    "e. Write a code that counts the number of zeros in matrix B.\n"
   ]
  },
  {
   "cell_type": "code",
   "execution_count": 110,
   "id": "051c356e",
   "metadata": {},
   "outputs": [
    {
     "name": "stdout",
     "output_type": "stream",
     "text": [
      "4\n"
     ]
    }
   ],
   "source": [
    "count=0\n",
    "for i in B.flatten():\n",
    "    if i==0:\n",
    "        count += 1\n",
    "print(count)"
   ]
  },
  {
   "cell_type": "markdown",
   "id": "c3ca7332",
   "metadata": {},
   "source": [
    "### Exercise 5 - CES production function and comparative statistics "
   ]
  },
  {
   "cell_type": "markdown",
   "id": "50afb117",
   "metadata": {},
   "source": [
    "a. Create a function that given the arguments K, L, A, α, σ, returns output Y. You can have\n",
    "inside the function an if statement for when σ = 1 the output Y comes from Cobb-Douglass\n",
    "production function, else from the CES function.\n",
    "From now on work with the following parameterization: A = 1.5, α = 0.33."
   ]
  },
  {
   "cell_type": "code",
   "execution_count": 111,
   "id": "05045226",
   "metadata": {},
   "outputs": [],
   "source": [
    "#Defining production function\n",
    "def production(A, alpha, K, L, sigma):\n",
    "    if sigma == 1: \n",
    "        Y = A * K**alpha * L**(1-alpha)\n",
    "    else: \n",
    "        Y = A * ((alpha*K**((sigma-1)/(sigma)) + (1-alpha)*L**((sigma-1)/(sigma)))**((sigma)/(sigma-1)))\n",
    "    return Y"
   ]
  },
  {
   "cell_type": "markdown",
   "id": "4a3d788c",
   "metadata": {},
   "source": [
    "b. Cobb-Douglass production function. First consider the Cobb-Douglass case with σ = 1.\n",
    "Compute output Y for an even-spaced grid of K, Gk = {0, 1, 2, 3, 4, 5, 6, 7, 8, 9, 10}, and a\n",
    "fixed L = 3. Plot the resuls—make an x-y plot with the grid of K in the x and output Y in\n",
    "the axis y.\n"
   ]
  },
  {
   "cell_type": "code",
   "execution_count": 112,
   "id": "09c17599",
   "metadata": {},
   "outputs": [
    {
     "data": {
      "image/png": "[encoded data removed]",
      "text/plain": [
       "<Figure size 640x480 with 1 Axes>"
      ]
     },
     "metadata": {},
     "output_type": "display_data"
    }
   ],
   "source": [
    "#Assigning values to variables\n",
    "A = 1.5\n",
    "L = 3\n",
    "alpha = 0.33\n",
    "sigma = 1\n",
    "K = np.linspace(0,10,11)\n",
    "\n",
    "#Calculating production for given parameters\n",
    "Y = production(A, alpha, K, L, sigma)\n",
    "\n",
    "#Plotting production against capital\n",
    "plt.plot(K,Y)\n",
    "plt.xlabel('Capital (K)')\n",
    "plt.ylabel('Production (Y)')\n",
    "plt.title('Cobb-Douglas Production Function (CES sigma=1)')\n",
    "plt.show()"
   ]
  },
  {
   "cell_type": "markdown",
   "id": "8a977192",
   "metadata": {},
   "source": [
    "c. From b recompute output Y for the 3 cases α = 0.25, α = 0.5, α = 0.75. Make an x − y plot\n",
    "with the 3 production functions in the same graph.\n"
   ]
  },
  {
   "cell_type": "code",
   "execution_count": 113,
   "id": "af4b7e81",
   "metadata": {},
   "outputs": [
    {
     "data": {
      "image/png": "[encoded data removed]",
      "text/plain": [
       "<Figure size 640x480 with 1 Axes>"
      ]
     },
     "metadata": {},
     "output_type": "display_data"
    }
   ],
   "source": [
    "#Setting parameters\n",
    "A = 1.5\n",
    "L = 3\n",
    "sigma = 1\n",
    "K = np.linspace(0,10,11)\n",
    "\n",
    "#Calculating and plotting production on K for different alphas\n",
    "alpha = [0.25,0.5,0.75]\n",
    "colours = [\"blue\",\"purple\",\"red\"]  #Setting custom colours of the plotted lines\n",
    "\n",
    "for i,c in zip(alpha,colours):\n",
    "    Y = production(A,i,K,L,sigma)\n",
    "    plt.plot(K,Y, color=c, linewidth=2.0,label=f\"alpha={i}\")\n",
    "\n",
    "plt.title('Cobb-Douglas Production Function (CES Sigma=1) for Different Alpha')\n",
    "plt.xlabel('Capital (K)')\n",
    "plt.ylabel('Production (Y)')\n",
    "plt.legend(fontsize=7)\n",
    "plt.show()"
   ]
  },
  {
   "cell_type": "markdown",
   "id": "afa49571",
   "metadata": {},
   "source": [
    "d. CES production function. Redo exercise b but for σ = 0.33"
   ]
  },
  {
   "cell_type": "code",
   "execution_count": 114,
   "id": "03529f23",
   "metadata": {},
   "outputs": [
    {
     "name": "stderr",
     "output_type": "stream",
     "text": [
      "C:\\Users\\icon8\\AppData\\Local\\Temp\\ipykernel_1968\\654145091.py:6: RuntimeWarning: divide by zero encountered in power\n",
      "  Y = A * ((alpha*K**((sigma-1)/(sigma)) + (1-alpha)*L**((sigma-1)/(sigma)))**((sigma)/(sigma-1)))\n"
     ]
    },
    {
     "data": {
      "image/png": "[encoded data removed]",
      "text/plain": [
       "<Figure size 640x480 with 1 Axes>"
      ]
     },
     "metadata": {},
     "output_type": "display_data"
    }
   ],
   "source": [
    "#Setting parameters\n",
    "A = 1.5\n",
    "L = 3\n",
    "alpha = 0.33\n",
    "sigma = 0.33\n",
    "K = np.linspace(0,10,11)\n",
    "\n",
    "#calculate production\n",
    "Y = production(A, alpha, K, L, sigma)\n",
    "\n",
    "#Plot production against capital\n",
    "plt.plot(K,Y)\n",
    "plt.title('CES Production Function (sigma=0.33)')\n",
    "plt.xlabel('Capital (K)')\n",
    "plt.ylabel('Production (Y)')\n",
    "\n",
    "plt.show()"
   ]
  },
  {
   "cell_type": "markdown",
   "id": "958ee95c",
   "metadata": {},
   "source": [
    "e. Keeping α = 0.33, plot output Y vs the grid of capital for the cases of σ = 0.25, σ = 0.5, σ =\n",
    "1, σ = 2, σ = 4."
   ]
  },
  {
   "cell_type": "code",
   "execution_count": 115,
   "id": "a1e8eb6e",
   "metadata": {},
   "outputs": [
    {
     "name": "stderr",
     "output_type": "stream",
     "text": [
      "C:\\Users\\icon8\\AppData\\Local\\Temp\\ipykernel_1968\\654145091.py:6: RuntimeWarning: divide by zero encountered in power\n",
      "  Y = A * ((alpha*K**((sigma-1)/(sigma)) + (1-alpha)*L**((sigma-1)/(sigma)))**((sigma)/(sigma-1)))\n",
      "C:\\Users\\icon8\\AppData\\Local\\Temp\\ipykernel_1968\\654145091.py:6: RuntimeWarning: divide by zero encountered in reciprocal\n",
      "  Y = A * ((alpha*K**((sigma-1)/(sigma)) + (1-alpha)*L**((sigma-1)/(sigma)))**((sigma)/(sigma-1)))\n"
     ]
    },
    {
     "data": {
      "image/png": "[encoded data removed]",
      "text/plain": [
       "<Figure size 640x480 with 1 Axes>"
      ]
     },
     "metadata": {},
     "output_type": "display_data"
    }
   ],
   "source": [
    "#Set parameters\n",
    "A = 1.5\n",
    "L = 3\n",
    "alpha = 0.33\n",
    "K = np.linspace(0,10,11)\n",
    "\n",
    "#Calculating and plotting production on K for different alphas\n",
    "sigma = [0.25,0.5,1,2,4]\n",
    "colours = [\"deepskyblue\",\"blue\",\"purple\",\"red\",\"darkred\"]  #Setting custom colours of the plotted lines\n",
    "\n",
    "for i,c in zip(sigma,colours):\n",
    "    Y = production(A,alpha,K,L,i)\n",
    "    plt.plot(K,Y, color=c, linewidth=2.0,label=f\"sigma={i}\")\n",
    "\n",
    "plt.title('CES Production Function for Different Sigma')\n",
    "plt.xlabel('Capital (K)')\n",
    "plt.ylabel('Production (Y)')\n",
    "plt.legend(fontsize=7)\n",
    "plt.show()"
   ]
  },
  {
   "cell_type": "markdown",
   "id": "3f702977",
   "metadata": {},
   "source": [
    "f. How does output Y changes along K for the different σ specifications? Can you provide the\n",
    "economic interpretation? Hint: σ captures the relative degree of substitutability/complementarity\n",
    "between the two inputs K, L.\n"
   ]
  },
  {
   "cell_type": "markdown",
   "id": "dc23e1bb",
   "metadata": {},
   "source": [
    "__Answer__:\n",
    "\n",
    "We observe that as __σ__ increases, the production function becomes more linear. When __σ__ is low (and thus the production function on __K__-space is highly curved), the marginal product of capital is higher at low levels of capital than when __σ__ is high. Similarly, the marginal product of capital (MPK := dY/dK) is lower at high levels of __σ__. We can investigate this relationship by plotting the MPK for different values of __σ__:"
   ]
  },
  {
   "cell_type": "code",
   "execution_count": 116,
   "id": "dee42e4e",
   "metadata": {},
   "outputs": [],
   "source": [
    "'''Define a function that approximates the marginal product of capital (derivative of Y w.r.t K) \n",
    "along various points of production in K-space'''\n",
    "\n",
    "def point_derivative(A,alpha,K,L,sigma):\n",
    "    k1=K\n",
    "    k2=K+0.01\n",
    "    y1=production(A,alpha,k1,L,sigma)\n",
    "    y2=production(A,alpha,k2,L,sigma)\n",
    "    return (y2-y1)/(k2-k1)"
   ]
  },
  {
   "cell_type": "code",
   "execution_count": 117,
   "id": "aa97c93a",
   "metadata": {},
   "outputs": [
    {
     "name": "stderr",
     "output_type": "stream",
     "text": [
      "C:\\Users\\icon8\\AppData\\Local\\Temp\\ipykernel_1968\\654145091.py:6: RuntimeWarning: divide by zero encountered in power\n",
      "  Y = A * ((alpha*K**((sigma-1)/(sigma)) + (1-alpha)*L**((sigma-1)/(sigma)))**((sigma)/(sigma-1)))\n",
      "C:\\Users\\icon8\\AppData\\Local\\Temp\\ipykernel_1968\\654145091.py:6: RuntimeWarning: divide by zero encountered in reciprocal\n",
      "  Y = A * ((alpha*K**((sigma-1)/(sigma)) + (1-alpha)*L**((sigma-1)/(sigma)))**((sigma)/(sigma-1)))\n"
     ]
    },
    {
     "data": {
      "image/png": "[encoded data removed]",
      "text/plain": [
       "<Figure size 640x480 with 1 Axes>"
      ]
     },
     "metadata": {},
     "output_type": "display_data"
    }
   ],
   "source": [
    "'''Graph the derivatve for different sigmas'''\n",
    "\n",
    "#Set parameters\n",
    "A = 1.5\n",
    "L = 3\n",
    "alpha = 0.33\n",
    "K = np.linspace(0,10,100) \n",
    "\n",
    "#Calculate and plot the marginal product of capital for different sigma.\n",
    "sigma = [0.25,0.5,1,2,4]\n",
    "colours = [\"deepskyblue\",\"blue\",\"purple\",\"red\",\"darkred\"]  #Setting custom colours of the plotted lines\n",
    "\n",
    "fig, ax = plt.subplots()\n",
    "\n",
    "for i,c in zip(sigma,colours):\n",
    "    MPK = point_derivative(A,alpha,K,L,i)\n",
    "    plt.plot(K,MPK, color=c, linewidth=2.0,label=f\"sigma={i}\")\n",
    "\n",
    "ax.set(xlim=(0,10), xticks=np.arange(0,11))\n",
    "ax.set(ylim=(0,5), yticks=np.arange(1,5))\n",
    "\n",
    "plt.title('Marginal Production of Capital (L=3) for Different Sigma')\n",
    "plt.xlabel('Capital (K)')\n",
    "plt.ylabel('Production (Y)')\n",
    "plt.legend(fontsize=7)\n",
    "\n",
    "plt.show()"
   ]
  },
  {
   "cell_type": "markdown",
   "id": "371700e8",
   "metadata": {},
   "source": [
    "Thus, we find that __σ__ captures the curvature of the CES production function and the relative degree of substitutability/complementarity between the two inputs K, L. High __σ__ implies that capital and labour are highly substitutable in the production process (and thus the MPK of capital remains high even when K far outpaces L), while a low __σ__ implies that the inputs are highly complementary (and thus the MPK is relatively low when K is high compared to L). More formally:"
   ]
  },
  {
   "cell_type": "markdown",
   "id": "240291a3",
   "metadata": {},
   "source": [
    "$\\textbf{σ} \\equiv \\frac{\\partial \\ln(k/l)}{\\partial \\ln(MPL/MPK)}$"
   ]
  },
  {
   "cell_type": "markdown",
   "id": "85690112",
   "metadata": {},
   "source": [
    "In the real world, a high-__σ__ production process might be a factory where a machine and person can produce widgets at similar rates/efficiency. A low-__σ__ production process might be one where each person requires a machine (and vice-versa) in order to produce a widget."
   ]
  }
 ],
 "metadata": {
  "kernelspec": {
   "display_name": "Python 3 (ipykernel)",
   "language": "python",
   "name": "python3"
  },
  "language_info": {
   "codemirror_mode": {
    "name": "ipython",
    "version": 3
   },
   "file_extension": ".py",
   "mimetype": "text/x-python",
   "name": "python",
   "nbconvert_exporter": "python",
   "pygments_lexer": "ipython3",
   "version": "3.10.8"
  }
 },
 "nbformat": 4,
 "nbformat_minor": 5
}
