{
 "cells": [
  {
   "cell_type": "markdown",
   "id": "a3bb7f94",
   "metadata": {},
   "source": [
    "# Programming for Economics"
   ]
  },
  {
   "cell_type": "markdown",
   "id": "23ef4388",
   "metadata": {},
   "source": [
    "## Problem Set 02 - Week 3 - Group 02"
   ]
  },
  {
   "cell_type": "markdown",
   "id": "cc60cd23",
   "metadata": {},
   "source": [
    "*31/01/23*"
   ]
  },
  {
   "cell_type": "code",
   "execution_count": 1,
   "id": "47ae8ce4",
   "metadata": {},
   "outputs": [],
   "source": [
    "#Importing Packages:\n",
    "\n",
    "import pandas as pd\n",
    "import numpy as np\n",
    "import matplotlib.pyplot as plt\n",
    "import os\n",
    "import seaborn as sns\n",
    "sns.set_style(\"darkgrid\")"
   ]
  },
  {
   "cell_type": "code",
   "execution_count": 2,
   "id": "7b254e36",
   "metadata": {},
   "outputs": [],
   "source": [
    "#Defining display options:\n",
    "\n",
    "pd.options.display.float_format = '{:,.2f}'.format\n",
    "pd.set_option('display.max_columns', None)  # or 1000\n",
    "pd.set_option('display.max_rows', None)  # or 1000\n",
    "pd.set_option('display.max_colwidth', None)  # or 199\n",
    "percentiles = [0.05, 0.1, 0.25, 0.5, 0.75, 0.9, 0.95]"
   ]
  },
  {
   "cell_type": "code",
   "execution_count": 3,
   "id": "346a4864",
   "metadata": {},
   "outputs": [],
   "source": [
    "#Importing dataset: \n",
    "\n",
    "\n",
    "os.chdir(r\"C:\\Users\\icon8\\Desktop\\Programming for Economics\\W3\\PS02\")\n",
    "df = pd.read_excel(\"UNPS_1112_PS2.xls\")"
   ]
  },
  {
   "cell_type": "markdown",
   "id": "a9d7993e",
   "metadata": {},
   "source": [
    "### Exercise 1. Exploring the data (25 points)"
   ]
  },
  {
   "cell_type": "markdown",
   "id": "f61ced56",
   "metadata": {},
   "source": [
    "#### a. Are there duplicate households in the data? That is check if there are repeated observations in the unique household identifier variable (’hhid’).\n"
   ]
  },
  {
   "cell_type": "code",
   "execution_count": 4,
   "id": "26ba2ab7",
   "metadata": {},
   "outputs": [
    {
     "data": {
      "text/plain": [
       "True"
      ]
     },
     "execution_count": 4,
     "metadata": {},
     "output_type": "execute_result"
    }
   ],
   "source": [
    "#Check for duplicates:\n",
    "\n",
    "df[\"hhid\"].is_unique\n",
    "\n",
    "#There are no duplicates in HHiD"
   ]
  },
  {
   "cell_type": "code",
   "execution_count": 5,
   "id": "8549956a",
   "metadata": {},
   "outputs": [
    {
     "data": {
      "text/plain": [
       "2613"
      ]
     },
     "execution_count": 5,
     "metadata": {},
     "output_type": "execute_result"
    }
   ],
   "source": [
    "#Check number of observations:\n",
    "\n",
    "df[\"hhid\"].count()\n",
    "\n",
    "#There are 2,613 unique HHiDs"
   ]
  },
  {
   "cell_type": "markdown",
   "id": "b329fcff",
   "metadata": {},
   "source": [
    "#### b. Present some basic summary statistics for the following variables: head_gender, head _age, familysize, consumption, income, wealth. Comment your results in 2 lines. In particular, you might mention if there are missing observations or potential outliers for some of the variables.\n"
   ]
  },
  {
   "cell_type": "code",
   "execution_count": 6,
   "id": "9620dc57",
   "metadata": {},
   "outputs": [
    {
     "data": {
      "text/html": [
       "<div>\n",
       "<style scoped>\n",
       "    .dataframe tbody tr th:only-of-type {\n",
       "        vertical-align: middle;\n",
       "    }\n",
       "\n",
       "    .dataframe tbody tr th {\n",
       "        vertical-align: top;\n",
       "    }\n",
       "\n",
       "    .dataframe thead th {\n",
       "        text-align: right;\n",
       "    }\n",
       "</style>\n",
       "<table border=\"1\" class=\"dataframe\">\n",
       "  <thead>\n",
       "    <tr style=\"text-align: right;\">\n",
       "      <th></th>\n",
       "      <th>head_gender</th>\n",
       "      <th>head_age</th>\n",
       "      <th>familysize</th>\n",
       "      <th>consumption</th>\n",
       "      <th>income</th>\n",
       "      <th>wealth</th>\n",
       "    </tr>\n",
       "  </thead>\n",
       "  <tbody>\n",
       "    <tr>\n",
       "      <th>count</th>\n",
       "      <td>2,597.00</td>\n",
       "      <td>2,597.00</td>\n",
       "      <td>2,597.00</td>\n",
       "      <td>2,613.00</td>\n",
       "      <td>2,613.00</td>\n",
       "      <td>2,613.00</td>\n",
       "    </tr>\n",
       "    <tr>\n",
       "      <th>mean</th>\n",
       "      <td>1.31</td>\n",
       "      <td>46.07</td>\n",
       "      <td>7.48</td>\n",
       "      <td>1,803.79</td>\n",
       "      <td>1,860.08</td>\n",
       "      <td>4,912.70</td>\n",
       "    </tr>\n",
       "    <tr>\n",
       "      <th>std</th>\n",
       "      <td>0.46</td>\n",
       "      <td>15.07</td>\n",
       "      <td>3.71</td>\n",
       "      <td>1,308.74</td>\n",
       "      <td>2,607.52</td>\n",
       "      <td>8,359.89</td>\n",
       "    </tr>\n",
       "    <tr>\n",
       "      <th>min</th>\n",
       "      <td>1.00</td>\n",
       "      <td>14.00</td>\n",
       "      <td>1.00</td>\n",
       "      <td>250.31</td>\n",
       "      <td>27.49</td>\n",
       "      <td>0.00</td>\n",
       "    </tr>\n",
       "    <tr>\n",
       "      <th>5%</th>\n",
       "      <td>1.00</td>\n",
       "      <td>25.00</td>\n",
       "      <td>2.00</td>\n",
       "      <td>491.21</td>\n",
       "      <td>139.81</td>\n",
       "      <td>68.94</td>\n",
       "    </tr>\n",
       "    <tr>\n",
       "      <th>10%</th>\n",
       "      <td>1.00</td>\n",
       "      <td>28.00</td>\n",
       "      <td>3.00</td>\n",
       "      <td>604.29</td>\n",
       "      <td>212.14</td>\n",
       "      <td>165.15</td>\n",
       "    </tr>\n",
       "    <tr>\n",
       "      <th>25%</th>\n",
       "      <td>1.00</td>\n",
       "      <td>34.00</td>\n",
       "      <td>5.00</td>\n",
       "      <td>918.32</td>\n",
       "      <td>471.20</td>\n",
       "      <td>720.02</td>\n",
       "    </tr>\n",
       "    <tr>\n",
       "      <th>50%</th>\n",
       "      <td>1.00</td>\n",
       "      <td>44.00</td>\n",
       "      <td>7.00</td>\n",
       "      <td>1,426.61</td>\n",
       "      <td>1,061.19</td>\n",
       "      <td>2,108.60</td>\n",
       "    </tr>\n",
       "    <tr>\n",
       "      <th>75%</th>\n",
       "      <td>2.00</td>\n",
       "      <td>56.00</td>\n",
       "      <td>9.00</td>\n",
       "      <td>2,296.86</td>\n",
       "      <td>2,234.80</td>\n",
       "      <td>5,221.94</td>\n",
       "    </tr>\n",
       "    <tr>\n",
       "      <th>90%</th>\n",
       "      <td>2.00</td>\n",
       "      <td>68.40</td>\n",
       "      <td>12.00</td>\n",
       "      <td>3,470.91</td>\n",
       "      <td>4,223.74</td>\n",
       "      <td>11,837.65</td>\n",
       "    </tr>\n",
       "    <tr>\n",
       "      <th>95%</th>\n",
       "      <td>2.00</td>\n",
       "      <td>74.00</td>\n",
       "      <td>14.00</td>\n",
       "      <td>4,396.64</td>\n",
       "      <td>6,230.44</td>\n",
       "      <td>20,423.55</td>\n",
       "    </tr>\n",
       "    <tr>\n",
       "      <th>max</th>\n",
       "      <td>2.00</td>\n",
       "      <td>100.00</td>\n",
       "      <td>33.00</td>\n",
       "      <td>8,369.90</td>\n",
       "      <td>52,137.74</td>\n",
       "      <td>76,396.34</td>\n",
       "    </tr>\n",
       "  </tbody>\n",
       "</table>\n",
       "</div>"
      ],
      "text/plain": [
       "       head_gender  head_age  familysize  consumption    income    wealth\n",
       "count     2,597.00  2,597.00    2,597.00     2,613.00  2,613.00  2,613.00\n",
       "mean          1.31     46.07        7.48     1,803.79  1,860.08  4,912.70\n",
       "std           0.46     15.07        3.71     1,308.74  2,607.52  8,359.89\n",
       "min           1.00     14.00        1.00       250.31     27.49      0.00\n",
       "5%            1.00     25.00        2.00       491.21    139.81     68.94\n",
       "10%           1.00     28.00        3.00       604.29    212.14    165.15\n",
       "25%           1.00     34.00        5.00       918.32    471.20    720.02\n",
       "50%           1.00     44.00        7.00     1,426.61  1,061.19  2,108.60\n",
       "75%           2.00     56.00        9.00     2,296.86  2,234.80  5,221.94\n",
       "90%           2.00     68.40       12.00     3,470.91  4,223.74 11,837.65\n",
       "95%           2.00     74.00       14.00     4,396.64  6,230.44 20,423.55\n",
       "max           2.00    100.00       33.00     8,369.90 52,137.74 76,396.34"
      ]
     },
     "execution_count": 6,
     "metadata": {},
     "output_type": "execute_result"
    }
   ],
   "source": [
    "#Define Summary Statistics:\n",
    "\n",
    "sum_stats = df[['head_gender', 'head_age', 'familysize', 'consumption', 'income', 'wealth']].describe(percentiles=percentiles)\n",
    "sum_stats"
   ]
  },
  {
   "cell_type": "markdown",
   "id": "6521a7fe",
   "metadata": {},
   "source": [
    "___Comment on summary statistics:___\n",
    "\n",
    "We see that head_gender is a binary variable with mostly male head of households\n",
    "(mean: 1.3132 < 1.5). The age of households takes on a large range of 86 years, with most observations concentrated roughly between 34-56 years (Interquartile Range). Consumption, income, and wealth all have means considerably higher than their medians, implying positive skew due to  large positive outliers. To put the asymmetry of max/mins into perspective, we can find the ratio of the number of standard deviations of the minima and maxima of each variable from their respective medians:\n"
   ]
  },
  {
   "cell_type": "code",
   "execution_count": 7,
   "id": "2105f6fd",
   "metadata": {},
   "outputs": [
    {
     "data": {
      "text/html": [
       "<div>\n",
       "<style scoped>\n",
       "    .dataframe tbody tr th:only-of-type {\n",
       "        vertical-align: middle;\n",
       "    }\n",
       "\n",
       "    .dataframe tbody tr th {\n",
       "        vertical-align: top;\n",
       "    }\n",
       "\n",
       "    .dataframe thead th {\n",
       "        text-align: right;\n",
       "    }\n",
       "</style>\n",
       "<table border=\"1\" class=\"dataframe\">\n",
       "  <thead>\n",
       "    <tr style=\"text-align: right;\">\n",
       "      <th></th>\n",
       "      <th>head_gender</th>\n",
       "      <th>head_age</th>\n",
       "      <th>familysize</th>\n",
       "      <th>consumption</th>\n",
       "      <th>income</th>\n",
       "      <th>wealth</th>\n",
       "    </tr>\n",
       "  </thead>\n",
       "  <tbody>\n",
       "    <tr>\n",
       "      <th>0</th>\n",
       "      <td>2.15</td>\n",
       "      <td>3.72</td>\n",
       "      <td>7.00</td>\n",
       "      <td>5.31</td>\n",
       "      <td>19.59</td>\n",
       "      <td>8.89</td>\n",
       "    </tr>\n",
       "    <tr>\n",
       "      <th>1</th>\n",
       "      <td>0.00</td>\n",
       "      <td>1.99</td>\n",
       "      <td>1.62</td>\n",
       "      <td>0.90</td>\n",
       "      <td>0.40</td>\n",
       "      <td>0.25</td>\n",
       "    </tr>\n",
       "  </tbody>\n",
       "</table>\n",
       "</div>"
      ],
      "text/plain": [
       "   head_gender  head_age  familysize  consumption  income  wealth\n",
       "0         2.15      3.72        7.00         5.31   19.59    8.89\n",
       "1         0.00      1.99        1.62         0.90    0.40    0.25"
      ]
     },
     "execution_count": 7,
     "metadata": {},
     "output_type": "execute_result"
    }
   ],
   "source": [
    "#Find relative distance of min and maxes from median:\n",
    "\n",
    "varlist = ['head_gender', 'head_age', 'familysize', 'consumption', 'income', 'wealth']\n",
    "distance_from_median={}\n",
    "\n",
    "for var in varlist:\n",
    "    distance_from_median[f\"{var}\"] = abs(df[f\"{var}\"].max()-df[f\"{var}\"].quantile(.50))/df[f\"{var}\"].std(), abs(df[f\"{var}\"].min()-df[f\"{var}\"].quantile(.50))/df[f\"{var}\"].std()\n",
    "\n",
    "pd.DataFrame(distance_from_median)"
   ]
  },
  {
   "cell_type": "markdown",
   "id": "d1bfbd8d",
   "metadata": {},
   "source": [
    "Consumption, income, and wealth have maxima that are over 5x further away (in terms of the # of std. dev.) from their respective medians than the minima. Finally, the difference between the counts() from the number of rows (2,613) implies the presence of missing (NaN) values. According to the table, there are 16 NaN values for head_gender, head_age, and familysize."
   ]
  },
  {
   "cell_type": "markdown",
   "id": "f9203b72",
   "metadata": {},
   "source": [
    "#### c. Using the head_gender variable, create a dummy variable for household head being female (1=female, 0=male). Be careful with missing values. What is the proportion of households where the head is female?"
   ]
  },
  {
   "cell_type": "code",
   "execution_count": 8,
   "id": "d3256bdd",
   "metadata": {},
   "outputs": [],
   "source": [
    "# Generating dummy variable\n",
    "\n",
    "df['head_female'] = np.nan\n",
    "df.loc[df['head_gender']==1, 'head_female'] = 0\n",
    "df.loc[df['head_gender']==2, 'head_female'] = 1"
   ]
  },
  {
   "cell_type": "code",
   "execution_count": 9,
   "id": "f11e8af7",
   "metadata": {},
   "outputs": [
    {
     "name": "stdout",
     "output_type": "stream",
     "text": [
      "The proportion of female to male heads of families is: 0.31420870234886406\n"
     ]
    }
   ],
   "source": [
    "# Calcuating the proportion of housegolds where the head is a female\n",
    "\n",
    "proportion_female = df.head_female.sum() / df['head_female'].count()\n",
    "print(\"The proportion of female to male heads of families is:\", proportion_female)"
   ]
  },
  {
   "cell_type": "markdown",
   "id": "486fd794",
   "metadata": {},
   "source": [
    "#### d. Using the groupby method, compute the average consumption, average household size, and average household head age for households where the head is male vs where the head is female. Do we observe noticeable differences across the two groups?\n"
   ]
  },
  {
   "cell_type": "code",
   "execution_count": 10,
   "id": "a1a62025",
   "metadata": {},
   "outputs": [
    {
     "data": {
      "text/html": [
       "<div>\n",
       "<style scoped>\n",
       "    .dataframe tbody tr th:only-of-type {\n",
       "        vertical-align: middle;\n",
       "    }\n",
       "\n",
       "    .dataframe tbody tr th {\n",
       "        vertical-align: top;\n",
       "    }\n",
       "\n",
       "    .dataframe thead th {\n",
       "        text-align: right;\n",
       "    }\n",
       "</style>\n",
       "<table border=\"1\" class=\"dataframe\">\n",
       "  <thead>\n",
       "    <tr style=\"text-align: right;\">\n",
       "      <th></th>\n",
       "      <th>consumption</th>\n",
       "      <th>familysize</th>\n",
       "      <th>head_age</th>\n",
       "    </tr>\n",
       "    <tr>\n",
       "      <th>head_female</th>\n",
       "      <th></th>\n",
       "      <th></th>\n",
       "      <th></th>\n",
       "    </tr>\n",
       "  </thead>\n",
       "  <tbody>\n",
       "    <tr>\n",
       "      <th>0.00</th>\n",
       "      <td>1,898.30</td>\n",
       "      <td>7.72</td>\n",
       "      <td>44.39</td>\n",
       "    </tr>\n",
       "    <tr>\n",
       "      <th>1.00</th>\n",
       "      <td>1,593.26</td>\n",
       "      <td>6.96</td>\n",
       "      <td>49.73</td>\n",
       "    </tr>\n",
       "  </tbody>\n",
       "</table>\n",
       "</div>"
      ],
      "text/plain": [
       "             consumption  familysize  head_age\n",
       "head_female                                   \n",
       "0.00            1,898.30        7.72     44.39\n",
       "1.00            1,593.26        6.96     49.73"
      ]
     },
     "execution_count": 10,
     "metadata": {},
     "output_type": "execute_result"
    }
   ],
   "source": [
    "#Averages of consumption, familysize, and household head age conditional on male or female:\n",
    "\n",
    "averages_bygender = df[['consumption','familysize','head_age', 'head_female']].groupby(by=\"head_female\").mean()  \n",
    "averages_bygender"
   ]
  },
  {
   "cell_type": "code",
   "execution_count": 11,
   "id": "18cafe5e",
   "metadata": {},
   "outputs": [
    {
     "data": {
      "text/html": [
       "<div>\n",
       "<style scoped>\n",
       "    .dataframe tbody tr th:only-of-type {\n",
       "        vertical-align: middle;\n",
       "    }\n",
       "\n",
       "    .dataframe tbody tr th {\n",
       "        vertical-align: top;\n",
       "    }\n",
       "\n",
       "    .dataframe thead th {\n",
       "        text-align: right;\n",
       "    }\n",
       "</style>\n",
       "<table border=\"1\" class=\"dataframe\">\n",
       "  <thead>\n",
       "    <tr style=\"text-align: right;\">\n",
       "      <th></th>\n",
       "      <th>consumption</th>\n",
       "      <th>familysize</th>\n",
       "      <th>head_age</th>\n",
       "    </tr>\n",
       "  </thead>\n",
       "  <tbody>\n",
       "    <tr>\n",
       "      <th>Female/Male (%) Difference:</th>\n",
       "      <td>-16.07</td>\n",
       "      <td>-9.91</td>\n",
       "      <td>12.04</td>\n",
       "    </tr>\n",
       "  </tbody>\n",
       "</table>\n",
       "</div>"
      ],
      "text/plain": [
       "                             consumption  familysize  head_age\n",
       "Female/Male (%) Difference:       -16.07       -9.91     12.04"
      ]
     },
     "execution_count": 11,
     "metadata": {},
     "output_type": "execute_result"
    }
   ],
   "source": [
    "#Percent (%) difference in conditional averages (as a % of the average | male):\n",
    "con_fam_age = ['consumption','familysize','head_age']\n",
    "fm_perc_diff={}\n",
    "\n",
    "for var in con_fam_age:\n",
    "    fm_perc_diff[f\"{var}\"] = ((averages_bygender.loc[1,f\"{var}\"]/averages_bygender.loc[0,f\"{var}\"])-1)*100\n",
    "\n",
    "pd.DataFrame(fm_perc_diff, index=[\"Female/Male (%) Difference:\"])"
   ]
  },
  {
   "cell_type": "markdown",
   "id": "d0498c1c",
   "metadata": {},
   "source": [
    "__Comment on Differences:__\n",
    "\n",
    "As a % of the conditional average for males, the conditional average of consumption for females heads is 16% lower; familysize, 10% lower; and head_age, 12% higher. In absolute terms:"
   ]
  },
  {
   "cell_type": "code",
   "execution_count": 12,
   "id": "28808d14",
   "metadata": {},
   "outputs": [
    {
     "data": {
      "text/html": [
       "<div>\n",
       "<style scoped>\n",
       "    .dataframe tbody tr th:only-of-type {\n",
       "        vertical-align: middle;\n",
       "    }\n",
       "\n",
       "    .dataframe tbody tr th {\n",
       "        vertical-align: top;\n",
       "    }\n",
       "\n",
       "    .dataframe thead th {\n",
       "        text-align: right;\n",
       "    }\n",
       "</style>\n",
       "<table border=\"1\" class=\"dataframe\">\n",
       "  <thead>\n",
       "    <tr style=\"text-align: right;\">\n",
       "      <th></th>\n",
       "      <th>consumption</th>\n",
       "      <th>familysize</th>\n",
       "      <th>head_age</th>\n",
       "    </tr>\n",
       "  </thead>\n",
       "  <tbody>\n",
       "    <tr>\n",
       "      <th>Female-Male (abs) Difference:</th>\n",
       "      <td>-305.04</td>\n",
       "      <td>-0.77</td>\n",
       "      <td>5.35</td>\n",
       "    </tr>\n",
       "  </tbody>\n",
       "</table>\n",
       "</div>"
      ],
      "text/plain": [
       "                               consumption  familysize  head_age\n",
       "Female-Male (abs) Difference:      -305.04       -0.77      5.35"
      ]
     },
     "execution_count": 12,
     "metadata": {},
     "output_type": "execute_result"
    }
   ],
   "source": [
    "#Absolute difference in conditional average (displacement from Avg. | male):\n",
    "\n",
    "\n",
    "fm_abs_diff={}\n",
    "for var in con_fam_age:\n",
    "    fm_abs_diff[f\"{var}\"] = averages_bygender.loc[1,f\"{var}\"]-averages_bygender.loc[0,f\"{var}\"]\n",
    "    \n",
    "pd.DataFrame(fm_abs_diff, index=[\"Female-Male (abs) Difference:\"])"
   ]
  },
  {
   "cell_type": "markdown",
   "id": "9fea5e45",
   "metadata": {},
   "source": [
    "Relative to the averages conditional on male heads of households, female heads have an average consumption that is $305 lower. familysize about 1 person fewer, and age about 5 years older. \n",
    "\n",
    "It is difficult to comment on the causal relationships underlying these conditional averages without additional data or metadata. It is possible that average consumption is lower for female-headed families because of the smaller average family size and income (which in turn affects the attainable family size &rarr; simoultaneity bias). It is also possible that average family size is roughly one person fewer because for cultural reasons the female becomes the new head of household only if the male head passes away or leaves the family. We would need more information on the definition of \"household head\".\n"
   ]
  },
  {
   "cell_type": "markdown",
   "id": "0ec8f100",
   "metadata": {},
   "source": [
    "### Exercise 2. Inequality in Uganda (50 points).\n"
   ]
  },
  {
   "cell_type": "markdown",
   "id": "456e1103",
   "metadata": {},
   "source": [
    "#### a. Create the variables log_c, log_inc, log_w that are the log of consumption, income, and wealth, respectively. Plot in the same graph the distribution of the log of consumption and the log of income. Do the distributions resemble some known distribution? Is inequality higher in consumption or in income?"
   ]
  },
  {
   "cell_type": "code",
   "execution_count": 13,
   "id": "3e0692fd",
   "metadata": {},
   "outputs": [],
   "source": [
    "# Creating log values of consumption, income and wealth\n",
    "\n",
    "df['log_consumption'] = np.log(df['consumption'])\n",
    "df['log_income'] = np.log(df['income'])"
   ]
  },
  {
   "cell_type": "code",
   "execution_count": 14,
   "id": "8f3c5650",
   "metadata": {},
   "outputs": [
    {
     "name": "stdout",
     "output_type": "stream",
     "text": [
      "head_gender    2597\n",
      "head_age       2597\n",
      "familysize     2597\n",
      "consumption    2613\n",
      "income         2613\n",
      "wealth         2613\n",
      "dtype: int64\n",
      "head_gender        2597\n",
      "head_age           2597\n",
      "familysize         2597\n",
      "log_consumption    2613\n",
      "log_income         2613\n",
      "log_wealth         2597\n",
      "dtype: int64\n"
     ]
    },
    {
     "name": "stderr",
     "output_type": "stream",
     "text": [
      "C:\\Users\\icon8\\anaconda3\\lib\\site-packages\\pandas\\core\\arraylike.py:397: RuntimeWarning: divide by zero encountered in log\n",
      "  result = getattr(ufunc, method)(*inputs, **kwargs)\n"
     ]
    }
   ],
   "source": [
    "#Wealth has values of zero which turn into -inf when transformed by log. Replace -inf with NaN:\n",
    "print(df[['head_gender', 'head_age', 'familysize', 'consumption', 'income', 'wealth']].count())\n",
    "\n",
    "df['log_wealth'] = np.log(df['wealth'])\n",
    "df.replace([np.inf, -np.inf], np.nan, inplace = True) # Removing infinite values\n",
    "\n",
    "print(df[['head_gender', 'head_age', 'familysize', 'log_consumption', 'log_income', 'log_wealth']].count()) \n",
    "#There were 16 -inf values in log of wealth (16 zero values in wealth)"
   ]
  },
  {
   "cell_type": "code",
   "execution_count": 15,
   "id": "0a1a2d84",
   "metadata": {},
   "outputs": [
    {
     "data": {
      "image/png": "[encoded data removed]",
      "text/plain": [
       "<Figure size 640x480 with 1 Axes>"
      ]
     },
     "metadata": {},
     "output_type": "display_data"
    }
   ],
   "source": [
    "# Generating kernel density plot\n",
    "fig, ax = plt.subplots()\n",
    "\n",
    "#----------------- Consumption\n",
    "fig = sns.kdeplot(df[\"log_consumption\"], shade=False, label='log_consumption')\n",
    "\n",
    "kdeline = ax.lines[0]\n",
    "xs = kdeline.get_xdata()\n",
    "ys = kdeline.get_ydata()\n",
    "middle = df[\"log_consumption\"].mean()\n",
    "ax.vlines(middle, 0, np.interp(middle, xs, ys), color='blue', ls=':')\n",
    "\n",
    "#----------------- Income\n",
    "fig = sns.kdeplot(df[\"log_income\"], shade=False, label='log_income')\n",
    "\n",
    "kdeline = ax.lines[1]\n",
    "ws = kdeline.get_xdata()\n",
    "zs = kdeline.get_ydata()\n",
    "middle = df[\"log_income\"].mean()\n",
    "ax.vlines(middle, 0, np.interp(middle, ws, zs), color='orange', ls=':')\n",
    "\n",
    "#----------------Shared Plot\n",
    "\n",
    "plt.legend(fontsize='small')\n",
    "plt.xlabel('Log(2013 Dollars, Adjusted for Inflation)')\n",
    "plt.title(\"Kernel Density Estimate: Log(Consumption) and Log(Income) with Means\")\n",
    "plt.show()"
   ]
  },
  {
   "cell_type": "code",
   "execution_count": 16,
   "id": "85d7726f",
   "metadata": {},
   "outputs": [
    {
     "data": {
      "text/html": [
       "<div>\n",
       "<style scoped>\n",
       "    .dataframe tbody tr th:only-of-type {\n",
       "        vertical-align: middle;\n",
       "    }\n",
       "\n",
       "    .dataframe tbody tr th {\n",
       "        vertical-align: top;\n",
       "    }\n",
       "\n",
       "    .dataframe thead th {\n",
       "        text-align: right;\n",
       "    }\n",
       "</style>\n",
       "<table border=\"1\" class=\"dataframe\">\n",
       "  <thead>\n",
       "    <tr style=\"text-align: right;\">\n",
       "      <th></th>\n",
       "      <th>income</th>\n",
       "      <th>consumption</th>\n",
       "    </tr>\n",
       "  </thead>\n",
       "  <tbody>\n",
       "    <tr>\n",
       "      <th>kurtosis</th>\n",
       "      <td>-0.04</td>\n",
       "      <td>-0.32</td>\n",
       "    </tr>\n",
       "    <tr>\n",
       "      <th>variance</th>\n",
       "      <td>1.34</td>\n",
       "      <td>0.45</td>\n",
       "    </tr>\n",
       "    <tr>\n",
       "      <th>skew</th>\n",
       "      <td>-0.22</td>\n",
       "      <td>0.04</td>\n",
       "    </tr>\n",
       "  </tbody>\n",
       "</table>\n",
       "</div>"
      ],
      "text/plain": [
       "          income  consumption\n",
       "kurtosis   -0.04        -0.32\n",
       "variance    1.34         0.45\n",
       "skew       -0.22         0.04"
      ]
     },
     "execution_count": 16,
     "metadata": {},
     "output_type": "execute_result"
    }
   ],
   "source": [
    "#Distribution variance, skew, and kurtosis\n",
    "\n",
    "pd.DataFrame([[df[\"log_income\"].kurtosis(), df[\"log_consumption\"].kurtosis()],[df[\"log_income\"].var(), df[\"log_consumption\"].var()],[df[\"log_income\"].skew(), df[\"log_consumption\"].skew()]], columns=[\"income\",\"consumption\"],index=[\"kurtosis\",'variance','skew'])"
   ]
  },
  {
   "cell_type": "markdown",
   "id": "5411a6f2",
   "metadata": {},
   "source": [
    "Inequality is high when there are many households at the low end of income/consumption and a small number of households at the high end (i.e., the top percentiles of wealth own a large proportion of total wealth). Both log(consumptions) and log(income) are approximately normally distributed, but the distribution of log(income) has a slight negative skew with a relatively heavy tail, indicating a large proportion of people in the low-middle income percentiles. Contrastingly, log(consumption) is relatively concentrated about its mean, reflecting a much smaller dispersion of log(consumption) for sampled households. \n",
    "\n",
    "We must remember that by taking the logarithm, we are compressing extreme values above $0, so an approximately normal distribution already implies considerably positive skew of the untransformed variable. A normal distribution with high variance, such as log(income), amplifies this relationship. Thus, it appears that there is less inequality in consumption than income."
   ]
  },
  {
   "cell_type": "markdown",
   "id": "d0332355",
   "metadata": {},
   "source": [
    "#### b. A commonly used statistic to measure inequality is the variance of the logs. Compute the variance of the log of consumption, of the log of income, and of the log of wealth. How do these measures of inequality in Uganda compare to the same measures of inequality in the United States? Use table 3, column 5–PSID in De Magalhães, L., & Santaeulàlia-Llopis, R. (2018) for the comparison."
   ]
  },
  {
   "cell_type": "code",
   "execution_count": 17,
   "id": "d651bcce",
   "metadata": {},
   "outputs": [
    {
     "data": {
      "text/html": [
       "<div>\n",
       "<style scoped>\n",
       "    .dataframe tbody tr th:only-of-type {\n",
       "        vertical-align: middle;\n",
       "    }\n",
       "\n",
       "    .dataframe tbody tr th {\n",
       "        vertical-align: top;\n",
       "    }\n",
       "\n",
       "    .dataframe thead th {\n",
       "        text-align: right;\n",
       "    }\n",
       "</style>\n",
       "<table border=\"1\" class=\"dataframe\">\n",
       "  <thead>\n",
       "    <tr style=\"text-align: right;\">\n",
       "      <th></th>\n",
       "      <th>log_consumption</th>\n",
       "      <th>log_income</th>\n",
       "      <th>log_wealth</th>\n",
       "    </tr>\n",
       "  </thead>\n",
       "  <tbody>\n",
       "    <tr>\n",
       "      <th>UG</th>\n",
       "      <td>0.45</td>\n",
       "      <td>1.34</td>\n",
       "      <td>2.68</td>\n",
       "    </tr>\n",
       "    <tr>\n",
       "      <th>US</th>\n",
       "      <td>0.79</td>\n",
       "      <td>0.97</td>\n",
       "      <td>2.11</td>\n",
       "    </tr>\n",
       "  </tbody>\n",
       "</table>\n",
       "</div>"
      ],
      "text/plain": [
       "    log_consumption  log_income  log_wealth\n",
       "UG             0.45        1.34        2.68\n",
       "US             0.79        0.97        2.11"
      ]
     },
     "execution_count": 17,
     "metadata": {},
     "output_type": "execute_result"
    }
   ],
   "source": [
    "# Var of log_consumption, Income, Wealth: Uganda vs. U.S.:\n",
    "\n",
    "log_varlist = [\"log_consumption\", \"log_income\", \"log_wealth\"]\n",
    "US_variance_log = [0.79,0.97,2.11]\n",
    "UG_variance_log = []\n",
    "\n",
    "for var in log_varlist:\n",
    "    UG_variance_log = np.append(UG_variance_log,df[f'{var}'].var())\n",
    "\n",
    "pd.DataFrame([UG_variance_log,US_variance_log], columns=log_varlist, index=[\"UG\",\"US\"])"
   ]
  },
  {
   "cell_type": "markdown",
   "id": "3a9685ec",
   "metadata": {},
   "source": [
    "A higher variance of log of income, consumption, and wealth indicates higher inequality. The logarithmic transformation dampens the effect of outliers and skew, which may bias the standard deviation (and subsequent dispersion metrics, too) at certain domains of the data set, and thus making cross-country comparision less accurate.  \n",
    "\n",
    "Log variance figures from De Magalhães, L., & Santaeulàlia-Llopis, R.(2018) show that the U.S. has a higher variance in log of consumption, but lower variance in log of income and wealth. Lower consumption inequality in Uganda may reflect the overall lower cost of living in Uganda, as well as a lower cost and/or availability of certian luxury and durable goods, which are more important for the top percentiles of wealth. The higher inequality in income and wealth may reflect wealth endowment from colonial institutions (Uganda agained independence very recently, in 1962). Research has linked previous colonial rule with greater vulnerability to corruption and higher inequality, likely due to the quality of inherited institutions.\n",
    "(https://www.jstor.org/stable/24751963 ; https://www.imf.org/external/pubs/ft/wp/wp9876.pdf).\n",
    "\n",
    "\n",
    "It should also be noted that measures of inequality are somewhat path dependent. For instance, the variance of the logarithm is more sensitive to left tail of the distribution the (poor), so the effect of government benefits on inequality is larger when measured by the variance of log income (because transfers disproportionally affects the incomes of the poor).\n",
    "(https://wol.iza.org/articles/measuring-income-inequality/long)\n",
    "\n",
    "In fact, measures that are sensitive to the lower range, such as the variance of logarithms, tend to show \"relatively less inequality in developing nations and more inequality in developed ones\", which may due to the \"tendency for developing nations to have a large, homogeneous population of poor together with great inequality among the rich.\" \n",
    "(Allison in https://www.jstor.org/stable/2094626?origin=crossref#metadata_info_tab_contents referencing Atkinson in https://www.sciencedirect.com/science/article/pii/0022053170900396)."
   ]
  },
  {
   "cell_type": "markdown",
   "id": "ec4a5926",
   "metadata": {},
   "source": [
    "#### c. Measuring between rural and urban inequality in Uganda. Compute the average consumption, income, and wealth for rural and urban areas separately (groupby). Are the differences between the two areas large?\n"
   ]
  },
  {
   "cell_type": "code",
   "execution_count": 18,
   "id": "cb06c095",
   "metadata": {},
   "outputs": [
    {
     "data": {
      "text/html": [
       "<div>\n",
       "<style scoped>\n",
       "    .dataframe tbody tr th:only-of-type {\n",
       "        vertical-align: middle;\n",
       "    }\n",
       "\n",
       "    .dataframe tbody tr th {\n",
       "        vertical-align: top;\n",
       "    }\n",
       "\n",
       "    .dataframe thead th {\n",
       "        text-align: right;\n",
       "    }\n",
       "</style>\n",
       "<table border=\"1\" class=\"dataframe\">\n",
       "  <thead>\n",
       "    <tr style=\"text-align: right;\">\n",
       "      <th></th>\n",
       "      <th>consumption</th>\n",
       "      <th>income</th>\n",
       "      <th>wealth</th>\n",
       "    </tr>\n",
       "    <tr>\n",
       "      <th>urban</th>\n",
       "      <th></th>\n",
       "      <th></th>\n",
       "      <th></th>\n",
       "    </tr>\n",
       "  </thead>\n",
       "  <tbody>\n",
       "    <tr>\n",
       "      <th>0</th>\n",
       "      <td>1,629.45</td>\n",
       "      <td>1,713.96</td>\n",
       "      <td>4,521.00</td>\n",
       "    </tr>\n",
       "    <tr>\n",
       "      <th>1</th>\n",
       "      <td>2,544.22</td>\n",
       "      <td>2,480.62</td>\n",
       "      <td>6,576.26</td>\n",
       "    </tr>\n",
       "  </tbody>\n",
       "</table>\n",
       "</div>"
      ],
      "text/plain": [
       "       consumption   income   wealth\n",
       "urban                               \n",
       "0         1,629.45 1,713.96 4,521.00\n",
       "1         2,544.22 2,480.62 6,576.26"
      ]
     },
     "execution_count": 18,
     "metadata": {},
     "output_type": "execute_result"
    }
   ],
   "source": [
    "#Averages of consumption, income, and wealth conditional on urban or rural:\n",
    "mean_byurban = df[['consumption','income','wealth', 'urban']].groupby(by=\"urban\").mean()\n",
    "mean_byurban"
   ]
  },
  {
   "cell_type": "code",
   "execution_count": 19,
   "id": "38b470cc",
   "metadata": {},
   "outputs": [
    {
     "data": {
      "text/html": [
       "<div>\n",
       "<style scoped>\n",
       "    .dataframe tbody tr th:only-of-type {\n",
       "        vertical-align: middle;\n",
       "    }\n",
       "\n",
       "    .dataframe tbody tr th {\n",
       "        vertical-align: top;\n",
       "    }\n",
       "\n",
       "    .dataframe thead th {\n",
       "        text-align: right;\n",
       "    }\n",
       "</style>\n",
       "<table border=\"1\" class=\"dataframe\">\n",
       "  <thead>\n",
       "    <tr style=\"text-align: right;\">\n",
       "      <th></th>\n",
       "      <th>consumption</th>\n",
       "      <th>income</th>\n",
       "      <th>wealth</th>\n",
       "    </tr>\n",
       "  </thead>\n",
       "  <tbody>\n",
       "    <tr>\n",
       "      <th>Urban/Rural (%) Difference:</th>\n",
       "      <td>56.14</td>\n",
       "      <td>44.73</td>\n",
       "      <td>45.46</td>\n",
       "    </tr>\n",
       "  </tbody>\n",
       "</table>\n",
       "</div>"
      ],
      "text/plain": [
       "                             consumption  income  wealth\n",
       "Urban/Rural (%) Difference:        56.14   44.73   45.46"
      ]
     },
     "execution_count": 19,
     "metadata": {},
     "output_type": "execute_result"
    }
   ],
   "source": [
    "#Percent (%) difference in conditional mean (as a % of the means | rural):\n",
    "\n",
    "con_inc_wlt = ['consumption','income','wealth']\n",
    "ur_perc_diff={}\n",
    "\n",
    "for var in con_inc_wlt:\n",
    "    ur_perc_diff[f\"{var}\"] = ((mean_byurban.loc[1,f\"{var}\"]/mean_byurban.loc[0,f\"{var}\"])-1)*100\n",
    "    \n",
    "pd.DataFrame(ur_perc_diff, index=[\"Urban/Rural (%) Difference:\"])"
   ]
  },
  {
   "cell_type": "code",
   "execution_count": 20,
   "id": "0a8b7579",
   "metadata": {},
   "outputs": [
    {
     "data": {
      "text/html": [
       "<div>\n",
       "<style scoped>\n",
       "    .dataframe tbody tr th:only-of-type {\n",
       "        vertical-align: middle;\n",
       "    }\n",
       "\n",
       "    .dataframe tbody tr th {\n",
       "        vertical-align: top;\n",
       "    }\n",
       "\n",
       "    .dataframe thead th {\n",
       "        text-align: right;\n",
       "    }\n",
       "</style>\n",
       "<table border=\"1\" class=\"dataframe\">\n",
       "  <thead>\n",
       "    <tr style=\"text-align: right;\">\n",
       "      <th></th>\n",
       "      <th>consumption</th>\n",
       "      <th>income</th>\n",
       "      <th>wealth</th>\n",
       "    </tr>\n",
       "  </thead>\n",
       "  <tbody>\n",
       "    <tr>\n",
       "      <th>Urban-Rural (abs) Difference:</th>\n",
       "      <td>914.77</td>\n",
       "      <td>766.66</td>\n",
       "      <td>2,055.26</td>\n",
       "    </tr>\n",
       "  </tbody>\n",
       "</table>\n",
       "</div>"
      ],
      "text/plain": [
       "                               consumption  income   wealth\n",
       "Urban-Rural (abs) Difference:       914.77  766.66 2,055.26"
      ]
     },
     "execution_count": 20,
     "metadata": {},
     "output_type": "execute_result"
    }
   ],
   "source": [
    "#Absolute difference in conditional mean (displacement from the means | rural ):\n",
    "ur_abs_diff={}\n",
    "\n",
    "for var in con_inc_wlt:\n",
    "    ur_abs_diff[f\"{var}\"] = mean_byurban.loc[1,f\"{var}\"]-mean_byurban.loc[0,f\"{var}\"]\n",
    "    \n",
    "pd.DataFrame(ur_abs_diff, index=[\"Urban-Rural (abs) Difference:\"])"
   ]
  },
  {
   "cell_type": "markdown",
   "id": "f9606e9a",
   "metadata": {},
   "source": [
    "The differences between rural and urban areas are very large. In particular, average consumption is 56% higher (as a percent of rural levels) in urban areas compared to rural ones. Overall, consumption, income, and wealth are around 45-55% higher, across the board, for urban areas. This reflects greater access to economic opportunities (income) and materialization of those opportunities (consumption) present in urban areas. Urban areas generally have greater acess to education and jobs, with a heightened diffusion of information, facilitating a greater degree of specialization and income.\n",
    "(https://www.imf.org/external/pubs/ft/fandd/2007/09/ravalli.htm)."
   ]
  },
  {
   "cell_type": "code",
   "execution_count": 21,
   "id": "d10c9cb8",
   "metadata": {},
   "outputs": [
    {
     "data": {
      "text/html": [
       "<div>\n",
       "<style scoped>\n",
       "    .dataframe tbody tr th:only-of-type {\n",
       "        vertical-align: middle;\n",
       "    }\n",
       "\n",
       "    .dataframe tbody tr th {\n",
       "        vertical-align: top;\n",
       "    }\n",
       "\n",
       "    .dataframe thead th {\n",
       "        text-align: right;\n",
       "    }\n",
       "</style>\n",
       "<table border=\"1\" class=\"dataframe\">\n",
       "  <thead>\n",
       "    <tr style=\"text-align: right;\">\n",
       "      <th></th>\n",
       "      <th>consumption</th>\n",
       "      <th>income</th>\n",
       "      <th>wealth</th>\n",
       "    </tr>\n",
       "    <tr>\n",
       "      <th>urban</th>\n",
       "      <th></th>\n",
       "      <th></th>\n",
       "      <th></th>\n",
       "    </tr>\n",
       "  </thead>\n",
       "  <tbody>\n",
       "    <tr>\n",
       "      <th>0</th>\n",
       "      <td>1,302.97</td>\n",
       "      <td>967.55</td>\n",
       "      <td>2,156.85</td>\n",
       "    </tr>\n",
       "    <tr>\n",
       "      <th>1</th>\n",
       "      <td>2,103.58</td>\n",
       "      <td>1,576.13</td>\n",
       "      <td>1,783.50</td>\n",
       "    </tr>\n",
       "  </tbody>\n",
       "</table>\n",
       "</div>"
      ],
      "text/plain": [
       "       consumption   income   wealth\n",
       "urban                               \n",
       "0         1,302.97   967.55 2,156.85\n",
       "1         2,103.58 1,576.13 1,783.50"
      ]
     },
     "execution_count": 21,
     "metadata": {},
     "output_type": "execute_result"
    }
   ],
   "source": [
    "#Now looking at another important average: the median.\n",
    "median_byurban = df[['consumption','income','wealth', 'urban']].groupby(by=['urban']).median()\n",
    "median_byurban"
   ]
  },
  {
   "cell_type": "code",
   "execution_count": 22,
   "id": "5c51aaf7",
   "metadata": {},
   "outputs": [
    {
     "data": {
      "text/html": [
       "<div>\n",
       "<style scoped>\n",
       "    .dataframe tbody tr th:only-of-type {\n",
       "        vertical-align: middle;\n",
       "    }\n",
       "\n",
       "    .dataframe tbody tr th {\n",
       "        vertical-align: top;\n",
       "    }\n",
       "\n",
       "    .dataframe thead th {\n",
       "        text-align: right;\n",
       "    }\n",
       "</style>\n",
       "<table border=\"1\" class=\"dataframe\">\n",
       "  <thead>\n",
       "    <tr style=\"text-align: right;\">\n",
       "      <th></th>\n",
       "      <th>consumption</th>\n",
       "      <th>income</th>\n",
       "      <th>wealth</th>\n",
       "    </tr>\n",
       "  </thead>\n",
       "  <tbody>\n",
       "    <tr>\n",
       "      <th>Rural</th>\n",
       "      <td>25.06</td>\n",
       "      <td>77.14</td>\n",
       "      <td>109.61</td>\n",
       "    </tr>\n",
       "    <tr>\n",
       "      <th>Urban</th>\n",
       "      <td>20.95</td>\n",
       "      <td>57.39</td>\n",
       "      <td>268.73</td>\n",
       "    </tr>\n",
       "  </tbody>\n",
       "</table>\n",
       "</div>"
      ],
      "text/plain": [
       "       consumption  income  wealth\n",
       "Rural        25.06   77.14  109.61\n",
       "Urban        20.95   57.39  268.73"
      ]
     },
     "execution_count": 22,
     "metadata": {},
     "output_type": "execute_result"
    }
   ],
   "source": [
    "#Percent deviation of the mean from the median:\n",
    "\n",
    "con_inc_wlt = ['consumption','income','wealth']\n",
    "r_avg_diff = []\n",
    "u_avg_diff = []\n",
    "\n",
    "for var in con_inc_wlt:\n",
    "    r_avg_diff = np.append(r_avg_diff, (mean_byurban.loc[0,f\"{var}\"]/median_byurban.loc[0,f\"{var}\"]-1)*100)\n",
    "    u_avg_diff = np.append(u_avg_diff, (mean_byurban.loc[1,f\"{var}\"]/median_byurban.loc[1,f\"{var}\"]-1)*100)\n",
    "\n",
    "#print(r_avg_diff)\n",
    "pd.DataFrame([r_avg_diff,u_avg_diff], columns=con_inc_wlt, index=[\"Rural\", \"Urban\"])"
   ]
  },
  {
   "cell_type": "markdown",
   "id": "cd1d35fb",
   "metadata": {},
   "source": [
    "There is a large disparity between mean and median consumption, income, and wealth for both urban and rural households. However, is particularly pronounced for wealth in urban areas, which has a mean almost 269% larger than the median in large part due to extreme positive outliers; urban wealth is relatively concentrated in the hands of a few individuals."
   ]
  },
  {
   "cell_type": "markdown",
   "id": "8ae8cf14",
   "metadata": {},
   "source": [
    "#### d. Measuring within rural and urban inequality in Uganda. Compute the variance of the log of consumption, income, and wealth for rural and urban areas separately (groupby).\n"
   ]
  },
  {
   "cell_type": "code",
   "execution_count": 23,
   "id": "e61fbd0b",
   "metadata": {},
   "outputs": [
    {
     "data": {
      "text/html": [
       "<div>\n",
       "<style scoped>\n",
       "    .dataframe tbody tr th:only-of-type {\n",
       "        vertical-align: middle;\n",
       "    }\n",
       "\n",
       "    .dataframe tbody tr th {\n",
       "        vertical-align: top;\n",
       "    }\n",
       "\n",
       "    .dataframe thead th {\n",
       "        text-align: right;\n",
       "    }\n",
       "</style>\n",
       "<table border=\"1\" class=\"dataframe\">\n",
       "  <thead>\n",
       "    <tr style=\"text-align: right;\">\n",
       "      <th></th>\n",
       "      <th>log_consumption</th>\n",
       "      <th>log_income</th>\n",
       "      <th>log_wealth</th>\n",
       "    </tr>\n",
       "    <tr>\n",
       "      <th>urban</th>\n",
       "      <th></th>\n",
       "      <th></th>\n",
       "      <th></th>\n",
       "    </tr>\n",
       "  </thead>\n",
       "  <tbody>\n",
       "    <tr>\n",
       "      <th>0</th>\n",
       "      <td>0.41</td>\n",
       "      <td>1.34</td>\n",
       "      <td>2.39</td>\n",
       "    </tr>\n",
       "    <tr>\n",
       "      <th>1</th>\n",
       "      <td>0.44</td>\n",
       "      <td>1.11</td>\n",
       "      <td>3.92</td>\n",
       "    </tr>\n",
       "  </tbody>\n",
       "</table>\n",
       "</div>"
      ],
      "text/plain": [
       "       log_consumption  log_income  log_wealth\n",
       "urban                                         \n",
       "0                 0.41        1.34        2.39\n",
       "1                 0.44        1.11        3.92"
      ]
     },
     "execution_count": 23,
     "metadata": {},
     "output_type": "execute_result"
    }
   ],
   "source": [
    "#Variance of the log of consumption, income, and wealth conditional on urban or rural\n",
    "\n",
    "df[['log_consumption','log_income','log_wealth', 'urban']].groupby(by=\"urban\").var() "
   ]
  },
  {
   "cell_type": "markdown",
   "id": "cc53cc65",
   "metadata": {},
   "source": [
    "Urban areas have a larger variance of logarithm of consumption and wealth, but rural areas have a larger variance of log of income. Higher consumption inequality in urban areas may be, in part, due to their generally greater cost of living and product range. Urban areas may both attract and select for highly wealthy individuals as a result of greater variety in investment opportunities. Higher income inequality in rural areas is somewhat surprising, but this could be a consequence of concentrated organization of farm labour and land ownership."
   ]
  },
  {
   "cell_type": "markdown",
   "id": "3011db6d",
   "metadata": {},
   "source": [
    "#### e. Compute the Gini coefficient in consumption, in income, and in wealth in Uganda. Compare these values with the Gini coefficients in the United States—table 3, column 5–PSID in De Magalhães, L., & Santaeulàlia-Llopis, R. (2018)\n"
   ]
  },
  {
   "cell_type": "code",
   "execution_count": 24,
   "id": "187995e3",
   "metadata": {},
   "outputs": [
    {
     "data": {
      "text/plain": [
       "consumption   0.37\n",
       "income        0.56\n",
       "wealth        0.66\n",
       "dtype: float64"
      ]
     },
     "execution_count": 24,
     "metadata": {},
     "output_type": "execute_result"
    }
   ],
   "source": [
    "# Define Gini function:\n",
    "\n",
    "def gini(array):\n",
    "    # from: https://github.com/oliviaguest/gini\n",
    "    #http://www.statsdirect.com/help/default.htm#nonparametric_methods/gini.htm \n",
    "    array = np.array(array)\n",
    "    array = array.flatten() \n",
    "    if np.amin(array) < 0:\n",
    "        array += np.amin(array) \n",
    "    array += 0.0000001 \n",
    "    array = np.sort(array) \n",
    "    index = np.arange(1,array.shape[0]+1) \n",
    "    n = array.shape[0]\n",
    "    return ((np.sum((2 * index - n  - 1) * array)) / (n * np.sum(array))) \n",
    "\n",
    "gini_coefficients = df[['consumption', 'income','wealth']].apply(gini)\n",
    "gini_coefficients"
   ]
  },
  {
   "cell_type": "code",
   "execution_count": 25,
   "id": "29820bab",
   "metadata": {},
   "outputs": [
    {
     "data": {
      "text/html": [
       "<div>\n",
       "<style scoped>\n",
       "    .dataframe tbody tr th:only-of-type {\n",
       "        vertical-align: middle;\n",
       "    }\n",
       "\n",
       "    .dataframe tbody tr th {\n",
       "        vertical-align: top;\n",
       "    }\n",
       "\n",
       "    .dataframe thead th {\n",
       "        text-align: right;\n",
       "    }\n",
       "</style>\n",
       "<table border=\"1\" class=\"dataframe\">\n",
       "  <thead>\n",
       "    <tr style=\"text-align: right;\">\n",
       "      <th></th>\n",
       "      <th>consumption</th>\n",
       "      <th>income</th>\n",
       "      <th>wealth</th>\n",
       "    </tr>\n",
       "  </thead>\n",
       "  <tbody>\n",
       "    <tr>\n",
       "      <th>UG</th>\n",
       "      <td>0.37</td>\n",
       "      <td>0.56</td>\n",
       "      <td>0.66</td>\n",
       "    </tr>\n",
       "    <tr>\n",
       "      <th>US</th>\n",
       "      <td>0.41</td>\n",
       "      <td>0.44</td>\n",
       "      <td>0.79</td>\n",
       "    </tr>\n",
       "  </tbody>\n",
       "</table>\n",
       "</div>"
      ],
      "text/plain": [
       "    consumption  income  wealth\n",
       "UG         0.37    0.56    0.66\n",
       "US         0.41    0.44    0.79"
      ]
     },
     "execution_count": 25,
     "metadata": {},
     "output_type": "execute_result"
    }
   ],
   "source": [
    "# Comparing gini in US and Uganda:\n",
    "\n",
    "con_inc_wlt = ['consumption','income','wealth']\n",
    "US_gini = [0.41,0.44,0.79]          #Magalhães, L., & Santaeulàlia-Llopis, R. (2018)\n",
    "UG_gini = list(gini_coefficients)\n",
    "\n",
    "pd.DataFrame([UG_gini,US_gini], columns=con_inc_wlt, index=[\"UG\",\"US\"])"
   ]
  },
  {
   "cell_type": "markdown",
   "id": "30c462d9",
   "metadata": {},
   "source": [
    "__Comparing Gini: Uganda and US__\n",
    "\n",
    "A Gini coefficient close to 1 indicates a high degree of inequality (a small % of the population owns a large % of the total wealth). The calculated Uganda Gini coefficients imply lower consumption and wealth inequality and higher income inequality. This is in contrast to the log of variance approach, which implied that Uganda had a higher income AND wealth inequality (yet\n",
    "similarly implied lower consumption inequality). The discrepancy in these two inequality metrics might be due to the fact that the Gini coefficient is more sensitive to the middle ranges of the distribution and the log of variance more sensitive to the lower ranges (https://www.jstor.org/stable/2094626?origin=crossref#metadata_info_tab_contents)."
   ]
  },
  {
   "cell_type": "markdown",
   "id": "b58e8f0f",
   "metadata": {},
   "source": [
    "#### f. Compute the share of the wealth that the bottom 50 percent hold. Compute the share of the wealth that the top 10, 5, and 1 percent hold."
   ]
  },
  {
   "cell_type": "code",
   "execution_count": 26,
   "id": "bf623928",
   "metadata": {},
   "outputs": [
    {
     "data": {
      "text/html": [
       "<div>\n",
       "<style scoped>\n",
       "    .dataframe tbody tr th:only-of-type {\n",
       "        vertical-align: middle;\n",
       "    }\n",
       "\n",
       "    .dataframe tbody tr th {\n",
       "        vertical-align: top;\n",
       "    }\n",
       "\n",
       "    .dataframe thead th {\n",
       "        text-align: right;\n",
       "    }\n",
       "</style>\n",
       "<table border=\"1\" class=\"dataframe\">\n",
       "  <thead>\n",
       "    <tr style=\"text-align: right;\">\n",
       "      <th></th>\n",
       "      <th>0-50%</th>\n",
       "      <th>90-100%</th>\n",
       "      <th>95-100%</th>\n",
       "      <th>99-100%</th>\n",
       "    </tr>\n",
       "  </thead>\n",
       "  <tbody>\n",
       "    <tr>\n",
       "      <th>Wealth</th>\n",
       "      <td>0.08</td>\n",
       "      <td>0.51</td>\n",
       "      <td>0.35</td>\n",
       "      <td>0.12</td>\n",
       "    </tr>\n",
       "  </tbody>\n",
       "</table>\n",
       "</div>"
      ],
      "text/plain": [
       "        0-50%  90-100%  95-100%  99-100%\n",
       "Wealth   0.08     0.51     0.35     0.12"
      ]
     },
     "execution_count": 26,
     "metadata": {},
     "output_type": "execute_result"
    }
   ],
   "source": [
    "#Calculate proportion of wealth held by bottom 50, top 10, top 5, and top 1 percentiles:\n",
    "\n",
    "sort_wealth_desc = df[\"wealth\"].sort_values(ascending=(False))\n",
    "percentiles_2 = [0.5, 0.1, 0.05, 0.01]\n",
    "\n",
    "wealth_in_percentiles = []\n",
    "for i in percentiles_2:\n",
    "    if i == 0.5:\n",
    "        proportion = 1-(sort_wealth_desc[0:int(i*len(sort_wealth_desc))].sum() / sort_wealth_desc.sum())\n",
    "        proportion_round = proportion.round(3)\n",
    "    else:\n",
    "        proportion = sort_wealth_desc[0:int(i*len(sort_wealth_desc))].sum() / sort_wealth_desc.sum()\n",
    "        proportion_round = proportion.round(3)\n",
    "    wealth_in_percentiles.append(proportion_round)\n",
    "\n",
    "column_list = ['0-50%','90-100%','95-100%','99-100%']\n",
    "\n",
    "df2 = pd.DataFrame(wealth_in_percentiles)\n",
    "ineq = df2.transpose()\n",
    "ineq.columns = column_list\n",
    "ineq.index = ['Wealth']\n",
    "\n",
    "ineq"
   ]
  },
  {
   "cell_type": "markdown",
   "id": "490eb87d",
   "metadata": {},
   "source": [
    "#### g. Although in the last years, there has been a big debate on inequality, the debate has mostly focused on rich countries. From your results of this exercise, is inequality large in Uganda? Should we also be concerned about inequality in low-income countries such as Uganda?\n"
   ]
  },
  {
   "cell_type": "markdown",
   "id": "7325ca53",
   "metadata": {},
   "source": [
    "Although it depends on the inequality metric used, gini coefficient, variance of logarithms, and piketty's percentile approach together indicate that inequality is large in Uganda compared to countries such as the United States. The gini and variance of logarithms agree that income inequality is higher in Uganda than the U.S., and the percentile approach shows that the top 5% owns over a third of the total wealth. If all of the 5% bins (of which there are 20 in total) owned as much as the top 5% bin, then total wealth would suddenly grow 560%.\n",
    "\n",
    "We should definitely be concerned about inequality in low-icome countries such as Uganda. Without going too deeply into the morality of inequality (perhaps beneath a Rawlsian shroud), there are strong economic arguments for reducing inequality. Many economists believe that reducing inequality has positive effects on a country's growth and development. High inequality is associated with greater economic and political instability, health and social problems, and barriers to \"pro-environment strategies and behaviors\" \n",
    "(https://www.weforum.org/agenda/2015/09/5-reasons-why-we-need-to-reduce-global-inequality). \n",
    "\n",
    "Some also believe that reducing inequality and economic growth are \"two sides of the same coin\" (https://www.oecd.org/economy/labour/49421421.pdf). Policies that reduce inequality, such as improving access to healthcare, education, electricity, and transportation infrastructure are all examples of Social Overhead Capital (SOC) crucial for a balanced growth path. For a country that is trying to meet its convergence club, or join a higher convergence club, reducing inequality might be key.\n"
   ]
  },
  {
   "cell_type": "markdown",
   "id": "1c1468d1",
   "metadata": {},
   "source": [
    "#### h. The few previous studies on income inequality in Africa have mostly used consumption measures to estimate income inequality. See, for example, Alvaredo & Gasparini (2005). From your results of this exercise, what do you think about these estimates? Are they overestimating or underestimating income inequality in Africa?"
   ]
  },
  {
   "cell_type": "markdown",
   "id": "da0010b0",
   "metadata": {},
   "source": [
    "Consumption metrics likely underestimate real income inequality because richer households tend to consume a smaller\n",
    "share of their incomes that poorer households. Additionally, consumption does not account for differences in saving behavior. If the wealthy save relatively more of their income-- perhaps due to investment opportunities, risk appetites, or simply greater access to financial institutions --their consumption will be lower compared to their income than poor households.\n",
    "(https://blogs.worldbank.org/developmenttalk/measuring-inequality-isn-t-easy-or-straightforward-here-s-why#:~:text=Given%20the%20fact%20that%20richer%20households%20tend%20to,on%20consumption%20would%20underestimate%20the%20extent%20of%20inequality.)\n",
    "\n",
    "Additionally, consumption surveys may understate true living standards at the top due to missing expenditure on durables (which is typically higher in wealthier households.\n",
    "https://openknowledge.worldbank.org/bitstream/handle/10986/25078/9781464809583.pdf"
   ]
  },
  {
   "cell_type": "markdown",
   "id": "af6a9467",
   "metadata": {},
   "source": [
    "### Exercise 3. The life-cycle of male vs female head households in Uganda (25 points)."
   ]
  },
  {
   "cell_type": "code",
   "execution_count": 27,
   "id": "4b3f7220",
   "metadata": {},
   "outputs": [
    {
     "name": "stderr",
     "output_type": "stream",
     "text": [
      "C:\\Users\\icon8\\AppData\\Local\\Temp\\ipykernel_35240\\3232086029.py:8: SettingWithCopyWarning: \n",
      "A value is trying to be set on a copy of a slice from a DataFrame.\n",
      "Try using .loc[row_indexer,col_indexer] = value instead\n",
      "\n",
      "See the caveats in the documentation: https://pandas.pydata.org/pandas-docs/stable/user_guide/indexing.html#returning-a-view-versus-a-copy\n",
      "  data['age_bins'] = pd.cut(data['head_age'],bins=bins, labels=labels)\n"
     ]
    }
   ],
   "source": [
    "#Truncate head_age and define bins:\n",
    "\n",
    "data = df[df['head_age'] < 80]\n",
    "data = df[df['head_age'] >18]\n",
    "#To smooth the lines, group the ages in bins\n",
    "bins = [18, 30, 40, 50, 60, 80]\n",
    "labels = [25, 35, 45, 55, 70]\n",
    "data['age_bins'] = pd.cut(data['head_age'],bins=bins, labels=labels)"
   ]
  },
  {
   "cell_type": "markdown",
   "id": "536d6fe6",
   "metadata": {},
   "source": [
    "#### a. Plot the lifecycle of the log of consumption for households where the head is male and for households where the head is female.\n"
   ]
  },
  {
   "cell_type": "code",
   "execution_count": 28,
   "id": "92a2f84d",
   "metadata": {},
   "outputs": [
    {
     "name": "stderr",
     "output_type": "stream",
     "text": [
      "C:\\Users\\icon8\\anaconda3\\lib\\site-packages\\seaborn\\_decorators.py:36: FutureWarning: Pass the following variables as keyword args: x, y. From version 0.12, the only valid positional argument will be `data`, and passing other arguments without an explicit keyword will result in an error or misinterpretation.\n",
      "  warnings.warn(\n"
     ]
    },
    {
     "data": {
      "image/png": "[encoded data removed]",
      "text/plain": [
       "<Figure size 640x480 with 1 Axes>"
      ]
     },
     "metadata": {},
     "output_type": "display_data"
    }
   ],
   "source": [
    "#Consumption Lifecycle: male vs female:\n",
    "\n",
    "fig, ax = plt.subplots()\n",
    "fig1 = sns.lineplot('age_bins', 'log_consumption', hue='head_female', data=data)\n",
    "plt.title('Consumption Lifecycle: Male vs Female Head')\n",
    "plt.ylabel('log of Consumption')\n",
    "plt.xlabel('Age')\n",
    "plt.show()\n"
   ]
  },
  {
   "cell_type": "markdown",
   "id": "57aaaf36",
   "metadata": {},
   "source": [
    "#### b. Plot the lifecycle of the log of income for households where the head is male and for households where the head is female.\n"
   ]
  },
  {
   "cell_type": "code",
   "execution_count": 29,
   "id": "951bf78a",
   "metadata": {},
   "outputs": [
    {
     "name": "stderr",
     "output_type": "stream",
     "text": [
      "C:\\Users\\icon8\\anaconda3\\lib\\site-packages\\seaborn\\_decorators.py:36: FutureWarning: Pass the following variables as keyword args: x, y. From version 0.12, the only valid positional argument will be `data`, and passing other arguments without an explicit keyword will result in an error or misinterpretation.\n",
      "  warnings.warn(\n"
     ]
    },
    {
     "data": {
      "image/png": "[encoded data removed]",
      "text/plain": [
       "<Figure size 640x480 with 1 Axes>"
      ]
     },
     "metadata": {},
     "output_type": "display_data"
    }
   ],
   "source": [
    "#Income Lifecycle: male vs female:\n",
    "\n",
    "fig, ax = plt.subplots()\n",
    "fig1 = sns.lineplot('age_bins', 'log_income', hue='head_female', data=data)\n",
    "plt.title('Income Lifecycle: Male vs Female Head')\n",
    "plt.ylabel('log of Income')\n",
    "plt.xlabel('Age')\n",
    "plt.show()"
   ]
  },
  {
   "cell_type": "markdown",
   "id": "0bf00a45",
   "metadata": {},
   "source": [
    "#### c. Plot the lifecycle of the log of wealth for households where the head is male and for households where the head is female.\n"
   ]
  },
  {
   "cell_type": "code",
   "execution_count": 30,
   "id": "3e60e351",
   "metadata": {},
   "outputs": [
    {
     "name": "stderr",
     "output_type": "stream",
     "text": [
      "C:\\Users\\icon8\\anaconda3\\lib\\site-packages\\seaborn\\_decorators.py:36: FutureWarning: Pass the following variables as keyword args: x, y. From version 0.12, the only valid positional argument will be `data`, and passing other arguments without an explicit keyword will result in an error or misinterpretation.\n",
      "  warnings.warn(\n"
     ]
    },
    {
     "data": {
      "image/png": "[encoded data removed]",
      "text/plain": [
       "<Figure size 640x480 with 1 Axes>"
      ]
     },
     "metadata": {},
     "output_type": "display_data"
    }
   ],
   "source": [
    "#wealth Lifecycle: male vs female\n",
    "\n",
    "fig, ax = plt.subplots()\n",
    "fig1 = sns.lineplot('age_bins', 'log_wealth', hue='head_female', data=data)\n",
    "plt.title('Wealth Lifecycle: Male vs Female Head')\n",
    "plt.ylabel('log of Wealth')\n",
    "plt.xlabel('Age')\n",
    "plt.show()"
   ]
  },
  {
   "cell_type": "markdown",
   "id": "e82fdd14",
   "metadata": {},
   "source": [
    "#### d. What are the differences in the lifecycle of households where the head is a male versus the head is a female?"
   ]
  },
  {
   "cell_type": "markdown",
   "id": "23e4c9ce",
   "metadata": {},
   "source": [
    "We see that for log(c), log(w), and log(inc), lifecycle levels \n",
    "begin at similar levels, but grow much faster for male heads. The lower avg. consumption across head_age may reflect income effects (lower avg. income across lifecycle), greater childcare expenses, and spending patterns. The lower avg. income across lifecycle may reflect career interruptions for childbirth and family caregiving, as well as lower economic opportunities in the form of jobs and education.\n",
    "\n",
    "After the mid-40s, wealth continues to grow weakly for male heads, while for female heads wealth peaks later but begins to decline in the mid-50s. This is reflected by a slightly faster decline of income relative to consumption (slightly steeper slope) that begins around these years. For male heads, consumption peaks about 10 years later (mid-40s), around the time their income peaks, reflecting the aforementioned income effects as well as credit access contingent on stable income. \n",
    "\n",
    "Improving economic opportunities available to women-- particularly jobs and access to education --will likely pull the female lifecycle of income closer to that of males, and through income effects, pull the lifecycle of consumption and wealth with it."
   ]
  }
 ],
 "metadata": {
  "kernelspec": {
   "display_name": "Python 3 (ipykernel)",
   "language": "python",
   "name": "python3"
  },
  "language_info": {
   "codemirror_mode": {
    "name": "ipython",
    "version": 3
   },
   "file_extension": ".py",
   "mimetype": "text/x-python",
   "name": "python",
   "nbconvert_exporter": "python",
   "pygments_lexer": "ipython3",
   "version": "3.9.13"
  }
 },
 "nbformat": 4,
 "nbformat_minor": 5
}
